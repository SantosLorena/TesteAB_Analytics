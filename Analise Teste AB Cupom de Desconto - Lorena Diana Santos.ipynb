{
 "cells": [
  {
   "cell_type": "code",
   "execution_count": 0,
   "metadata": {
    "application/vnd.databricks.v1+cell": {
     "cellMetadata": {
      "byteLimit": 2048000,
      "rowLimit": 10000
     },
     "inputWidgets": {},
     "nuid": "039b6e9d-5925-4bce-ac92-a251a1f2f09e",
     "showTitle": false,
     "tableResultSettingsMap": {},
     "title": ""
    }
   },
   "outputs": [
    {
     "output_type": "execute_result",
     "data": {
      "text/plain": [
       "'This notebook is used to analize tecnical case for the process selection of Ifood'"
      ]
     },
     "execution_count": 1,
     "metadata": {},
     "output_type": "execute_result"
    }
   ],
   "source": [
    "'''This notebook is used to analize tecnical case for the process selection of Ifood'''"
   ]
  },
  {
   "cell_type": "code",
   "execution_count": 0,
   "metadata": {
    "application/vnd.databricks.v1+cell": {
     "cellMetadata": {
      "byteLimit": 2048000,
      "rowLimit": 10000
     },
     "inputWidgets": {},
     "nuid": "7971b166-c3e0-4394-acb4-da213b08b615",
     "showTitle": false,
     "tableResultSettingsMap": {},
     "title": ""
    }
   },
   "outputs": [],
   "source": [
    "from pyspark.sql.functions import col, from_json, explode_outer, sum, round, countDistinct, avg, count, when, date_format, row_number,to_date\n",
    "from pyspark.sql import DataFrame\n",
    "from pyspark.sql.window import Window"
   ]
  },
  {
   "cell_type": "markdown",
   "metadata": {
    "application/vnd.databricks.v1+cell": {
     "cellMetadata": {},
     "inputWidgets": {},
     "nuid": "102f1460-0190-45df-a4fe-80f2cb905bd2",
     "showTitle": false,
     "tableResultSettingsMap": {},
     "title": ""
    }
   },
   "source": [
    "# Leitura de dados dos datasets"
   ]
  },
  {
   "cell_type": "code",
   "execution_count": 0,
   "metadata": {
    "application/vnd.databricks.v1+cell": {
     "cellMetadata": {
      "byteLimit": 2048000,
      "rowLimit": 10000
     },
     "inputWidgets": {},
     "nuid": "cd15047a-7f06-45eb-b2a5-328ba183f239",
     "showTitle": false,
     "tableResultSettingsMap": {},
     "title": ""
    }
   },
   "outputs": [],
   "source": [
    "df_order = spark.read.json(\"s3a://data-architect-test-source/order.json.gz\")\n"
   ]
  },
  {
   "cell_type": "code",
   "execution_count": 0,
   "metadata": {
    "application/vnd.databricks.v1+cell": {
     "cellMetadata": {
      "byteLimit": 2048000,
      "rowLimit": 10000
     },
     "inputWidgets": {},
     "nuid": "c707e879-39fc-40a3-8919-1333b3341380",
     "showTitle": false,
     "tableResultSettingsMap": {},
     "title": ""
    }
   },
   "outputs": [],
   "source": [
    "df_consumers = (\n",
    "    spark.read.option(\"header\", \"true\")\n",
    "    .option(\"inferSchema\", \"true\")\n",
    "    .csv(\"s3a://data-architect-test-source/consumer.csv.gz\")\n",
    ")"
   ]
  },
  {
   "cell_type": "code",
   "execution_count": 0,
   "metadata": {
    "application/vnd.databricks.v1+cell": {
     "cellMetadata": {
      "byteLimit": 2048000,
      "rowLimit": 10000
     },
     "inputWidgets": {},
     "nuid": "fb15522e-357b-4e5b-9975-9119c2c8426e",
     "showTitle": false,
     "tableResultSettingsMap": {},
     "title": ""
    }
   },
   "outputs": [],
   "source": [
    "df_merchants = (\n",
    "    spark.read.option(\"header\", \"true\")\n",
    "    .option(\"inferSchema\", \"true\")\n",
    "    .csv(\"s3a://data-architect-test-source/restaurant.csv.gz\")\n",
    ")"
   ]
  },
  {
   "cell_type": "markdown",
   "metadata": {
    "application/vnd.databricks.v1+cell": {
     "cellMetadata": {},
     "inputWidgets": {},
     "nuid": "656f81e4-acdb-4998-b8df-833409ad879f",
     "showTitle": false,
     "tableResultSettingsMap": {},
     "title": ""
    }
   },
   "source": [
    "Para o df_ab_test:\n",
    "- Foi realizada extração local dos arquivos utilizando 7-ZIP;\n",
    "- O arquivo foI adicionados ao databricks para o DBFS;\n",
    "- A seguir a leitura do arquivo para geração do dataframe"
   ]
  },
  {
   "cell_type": "code",
   "execution_count": 0,
   "metadata": {
    "application/vnd.databricks.v1+cell": {
     "cellMetadata": {
      "byteLimit": 2048000,
      "rowLimit": 10000
     },
     "inputWidgets": {},
     "nuid": "91d3fe8c-2647-4382-b888-b4d709d5ad8a",
     "showTitle": false,
     "tableResultSettingsMap": {},
     "title": ""
    }
   },
   "outputs": [],
   "source": [
    "df_ab_test_users = spark.read.option(\"header\", \"true\").option(\"inferSchema\", \"true\").csv(\"/FileStore/tables/ab_test_ref.csv\")\n"
   ]
  },
  {
   "cell_type": "markdown",
   "metadata": {
    "application/vnd.databricks.v1+cell": {
     "cellMetadata": {},
     "inputWidgets": {},
     "nuid": "2ee7478b-5459-4354-a872-3e81d7964d6c",
     "showTitle": false,
     "tableResultSettingsMap": {},
     "title": ""
    }
   },
   "source": [
    "# Processamento de Dados"
   ]
  },
  {
   "cell_type": "markdown",
   "metadata": {
    "application/vnd.databricks.v1+cell": {
     "cellMetadata": {},
     "inputWidgets": {},
     "nuid": "bd1c21f2-e91f-436b-ac3e-802424b46caa",
     "showTitle": false,
     "tableResultSettingsMap": {},
     "title": ""
    }
   },
   "source": [
    "### Order Dataset\n",
    "Para valores de orde_id que aparecem mais de uma vez, a data mais antiga será recuperada."
   ]
  },
  {
   "cell_type": "code",
   "execution_count": 0,
   "metadata": {
    "application/vnd.databricks.v1+cell": {
     "cellMetadata": {
      "byteLimit": 2048000,
      "rowLimit": 10000
     },
     "inputWidgets": {},
     "nuid": "795d8854-1d58-46f7-bd9b-4d15cb2702ee",
     "showTitle": false,
     "tableResultSettingsMap": {},
     "title": ""
    }
   },
   "outputs": [],
   "source": [
    "df_order = df_order.select(\n",
    "    \"customer_id\",\n",
    "    \"order_id\",\n",
    "    \"delivery_address_city\",\n",
    "    \"delivery_address_country\",\n",
    "    \"delivery_address_state\",\n",
    "    \"items\",\n",
    "    \"merchant_id\",\n",
    "    \"order_created_at\",\n",
    "    \"order_scheduled\",\n",
    "    \"order_total_amount\",\n",
    "    \"origin_platform\",\n",
    ")"
   ]
  },
  {
   "cell_type": "code",
   "execution_count": 0,
   "metadata": {
    "application/vnd.databricks.v1+cell": {
     "cellMetadata": {
      "byteLimit": 2048000,
      "rowLimit": 10000
     },
     "inputWidgets": {},
     "nuid": "eb1a4a82-878c-49b5-8163-78b45dd894fa",
     "showTitle": false,
     "tableResultSettingsMap": {},
     "title": ""
    }
   },
   "outputs": [],
   "source": [
    "window_spec = Window.partitionBy(\"order_id\").orderBy(\"order_created_at\")\n",
    "df_order_ranking = df_order.withColumn(\"rank\", row_number().over(window_spec))\n",
    "df_order_first = df_order_ranking.where(col(\"rank\") == 1).drop(\"rank\")"
   ]
  },
  {
   "cell_type": "code",
   "execution_count": 0,
   "metadata": {
    "application/vnd.databricks.v1+cell": {
     "cellMetadata": {
      "byteLimit": 2048000,
      "rowLimit": 10000
     },
     "inputWidgets": {},
     "nuid": "ca592d56-56ee-4487-84f0-ac0b86dc5719",
     "showTitle": false,
     "tableResultSettingsMap": {},
     "title": ""
    }
   },
   "outputs": [],
   "source": [
    "df_orders = df_order_first.withColumn(\n",
    "    \"year_month_order\", date_format(\"order_created_at\", \"yyyy-MM\")\n",
    ").withColumn(\"order_date\", to_date(\"order_created_at\"))"
   ]
  },
  {
   "cell_type": "markdown",
   "metadata": {
    "application/vnd.databricks.v1+cell": {
     "cellMetadata": {},
     "inputWidgets": {},
     "nuid": "3a62a01e-f866-4627-ba8d-01633cdac05e",
     "showTitle": false,
     "tableResultSettingsMap": {},
     "title": ""
    }
   },
   "source": [
    "# Criação de Tabelas"
   ]
  },
  {
   "cell_type": "code",
   "execution_count": 0,
   "metadata": {
    "application/vnd.databricks.v1+cell": {
     "cellMetadata": {
      "byteLimit": 2048000,
      "rowLimit": 10000
     },
     "inputWidgets": {},
     "nuid": "77ab20d2-ea20-4c06-8eb0-8a10eb7a9556",
     "showTitle": false,
     "tableResultSettingsMap": {},
     "title": ""
    }
   },
   "outputs": [
    {
     "output_type": "execute_result",
     "data": {
      "text/plain": [
       "DataFrame[]"
      ]
     },
     "execution_count": 33,
     "metadata": {},
     "output_type": "execute_result"
    }
   ],
   "source": [
    "spark.sql(\"CREATE DATABASE IF NOT EXISTS hive_metastore.analytics\")\n"
   ]
  },
  {
   "cell_type": "code",
   "execution_count": 0,
   "metadata": {
    "application/vnd.databricks.v1+cell": {
     "cellMetadata": {
      "byteLimit": 2048000,
      "rowLimit": 10000
     },
     "inputWidgets": {},
     "nuid": "14bb7abf-839d-4c66-9925-72c42b9d04ad",
     "showTitle": false,
     "tableResultSettingsMap": {},
     "title": ""
    }
   },
   "outputs": [],
   "source": [
    "df_orders.coalesce(8).write \\\n",
    "    .mode(\"overwrite\") \\\n",
    "    .format(\"delta\") \\\n",
    "    .option(\"overwriteSchema\", \"true\") \\\n",
    "    .saveAsTable(\"analytics.orders\")\n"
   ]
  },
  {
   "cell_type": "code",
   "execution_count": 0,
   "metadata": {
    "application/vnd.databricks.v1+cell": {
     "cellMetadata": {
      "byteLimit": 2048000,
      "rowLimit": 10000
     },
     "inputWidgets": {},
     "nuid": "9c79e3af-104f-4071-953c-d57853b0eacf",
     "showTitle": false,
     "tableResultSettingsMap": {},
     "title": ""
    }
   },
   "outputs": [],
   "source": [
    "df_consumers.write \\\n",
    "    .mode(\"overwrite\") \\\n",
    "    .format(\"delta\") \\\n",
    "    .saveAsTable(\"analytics.consumers\")\n"
   ]
  },
  {
   "cell_type": "code",
   "execution_count": 0,
   "metadata": {
    "application/vnd.databricks.v1+cell": {
     "cellMetadata": {
      "byteLimit": 2048000,
      "rowLimit": 10000
     },
     "inputWidgets": {},
     "nuid": "7b74c98e-7330-49ff-9d64-ae38f46756ea",
     "showTitle": false,
     "tableResultSettingsMap": {},
     "title": ""
    }
   },
   "outputs": [],
   "source": [
    "df_merchants.write \\\n",
    "    .mode(\"overwrite\") \\\n",
    "    .format(\"delta\") \\\n",
    "    .saveAsTable(\"analytics.merchants\")\n"
   ]
  },
  {
   "cell_type": "code",
   "execution_count": 0,
   "metadata": {
    "application/vnd.databricks.v1+cell": {
     "cellMetadata": {
      "byteLimit": 2048000,
      "rowLimit": 10000
     },
     "inputWidgets": {},
     "nuid": "302bc182-0aa3-465c-954c-50cc81ba740b",
     "showTitle": false,
     "tableResultSettingsMap": {},
     "title": ""
    }
   },
   "outputs": [],
   "source": [
    "df_ab_test_users.write \\\n",
    "    .mode(\"overwrite\") \\\n",
    "    .format(\"delta\") \\\n",
    "    .saveAsTable(\"analytics.ab_test_users\")\n"
   ]
  },
  {
   "cell_type": "markdown",
   "metadata": {
    "application/vnd.databricks.v1+cell": {
     "cellMetadata": {},
     "inputWidgets": {},
     "nuid": "8d7e687b-735b-47ac-a449-9b5ed9114525",
     "showTitle": false,
     "tableResultSettingsMap": {},
     "title": ""
    }
   },
   "source": [
    "# Análises\n"
   ]
  },
  {
   "cell_type": "markdown",
   "metadata": {
    "application/vnd.databricks.v1+cell": {
     "cellMetadata": {},
     "inputWidgets": {},
     "nuid": "762d7c27-9d7b-42dd-b6f4-53f6a75449c8",
     "showTitle": false,
     "tableResultSettingsMap": {},
     "title": ""
    }
   },
   "source": [
    "### 1 - Análise sobre a campanha de cupons de desconto\n",
    "\n",
    "Foram definidos os indicadores: \n",
    "- % Pedidos = Total de pedidos de clientes com cupom / total de pedidos;\n",
    "- Crescimento diário de pedidos (comparativo entre as segmentações);\n",
    "- Valor médio de pedido = Valor médio de pedido de clientes que utilizam cupom;\n",
    "- Mediana diária do valor total de pedidos (comparativos entre as segmentações)\n"
   ]
  },
  {
   "cell_type": "markdown",
   "metadata": {
    "application/vnd.databricks.v1+cell": {
     "cellMetadata": {},
     "inputWidgets": {},
     "nuid": "e8aae247-410a-46ad-8b97-570aec1934da",
     "showTitle": false,
     "tableResultSettingsMap": {},
     "title": ""
    }
   },
   "source": [
    "## % Pedidos e crescimento diário de pedidos"
   ]
  },
  {
   "cell_type": "markdown",
   "metadata": {
    "application/vnd.databricks.v1+cell": {
     "cellMetadata": {},
     "inputWidgets": {},
     "nuid": "f0d21f53-072c-4fd5-be71-1dd73aab43b3",
     "showTitle": false,
     "tableResultSettingsMap": {},
     "title": ""
    }
   },
   "source": [
    "Percentual de pedidos de clientes que receberam cupons em relação ao total de pedidos"
   ]
  },
  {
   "cell_type": "code",
   "execution_count": 0,
   "metadata": {
    "application/vnd.databricks.v1+cell": {
     "cellMetadata": {
      "byteLimit": 2048000,
      "implicitDf": true,
      "rowLimit": 10000
     },
     "inputWidgets": {},
     "nuid": "bfb8a46d-9481-4390-939f-72007cb1b8c3",
     "showTitle": false,
     "tableResultSettingsMap": {},
     "title": ""
    }
   },
   "outputs": [
    {
     "output_type": "display_data",
     "data": {
      "text/html": [
       "<style scoped>\n",
       "  .table-result-container {\n",
       "    max-height: 300px;\n",
       "    overflow: auto;\n",
       "  }\n",
       "  table, th, td {\n",
       "    border: 1px solid black;\n",
       "    border-collapse: collapse;\n",
       "  }\n",
       "  th, td {\n",
       "    padding: 5px;\n",
       "  }\n",
       "  th {\n",
       "    text-align: left;\n",
       "  }\n",
       "</style><div class='table-result-container'><table class='table-result'><thead style='background-color: white'><tr><th>order_from_target</th><th>total_order</th><th>percent_order_target</th></tr></thead><tbody><tr><td>1416677</td><td>2432974</td><td>58.23</td></tr></tbody></table></div>"
      ]
     },
     "metadata": {
      "application/vnd.databricks.v1+output": {
       "addedWidgets": {},
       "aggData": [],
       "aggError": "",
       "aggOverflow": false,
       "aggSchema": [],
       "aggSeriesLimitReached": false,
       "aggType": "",
       "arguments": {},
       "columnCustomDisplayInfos": {},
       "data": [
        [
         1416677,
         2432974,
         "58.23"
        ]
       ],
       "datasetInfos": [
        {
         "name": "_sqldf",
         "schema": {
          "fields": [
           {
            "metadata": {},
            "name": "order_from_target",
            "nullable": false,
            "type": "long"
           },
           {
            "metadata": {},
            "name": "total_order",
            "nullable": false,
            "type": "long"
           },
           {
            "metadata": {},
            "name": "percent_order_target",
            "nullable": true,
            "type": "decimal(27,2)"
           }
          ],
          "type": "struct"
         },
         "tableIdentifier": null,
         "typeStr": "pyspark.sql.dataframe.DataFrame"
        }
       ],
       "dbfsResultPath": null,
       "isJsonSchema": true,
       "metadata": {
        "createTempViewForImplicitDf": true,
        "dataframeName": "_sqldf",
        "executionCount": 175
       },
       "overflow": false,
       "plotOptions": {
        "customPlotOptions": {},
        "displayType": "table",
        "pivotAggregation": null,
        "pivotColumns": null,
        "xColumns": null,
        "yColumns": null
       },
       "removedWidgets": [],
       "schema": [
        {
         "metadata": "{}",
         "name": "order_from_target",
         "type": "\"long\""
        },
        {
         "metadata": "{}",
         "name": "total_order",
         "type": "\"long\""
        },
        {
         "metadata": "{}",
         "name": "percent_order_target",
         "type": "\"decimal(27,2)\""
        }
       ],
       "type": "table"
      }
     },
     "output_type": "display_data"
    }
   ],
   "source": [
    "%sql\n",
    "WITH total_order AS(\n",
    "   Select count(distinct order_id) As total\n",
    "   from  analytics.orders \n",
    "),\n",
    "order_from_target AS (\n",
    "  Select count(distinct r.order_id) As total\n",
    "  from analytics.orders r\n",
    "  inner join analytics.ab_test_users a\n",
    "  on a.customer_id = r.customer_id\n",
    "where a.is_target = 'target')\n",
    "SELECT\n",
    "  o.total AS order_from_target,\n",
    "  t.total AS total_order,\n",
    "  round(o.total * 100.0 / t.total,2) AS percent_order_target\n",
    "FROM order_from_target o, total_order t"
   ]
  },
  {
   "cell_type": "code",
   "execution_count": 0,
   "metadata": {
    "application/vnd.databricks.v1+cell": {
     "cellMetadata": {
      "byteLimit": 2048000,
      "implicitDf": true,
      "rowLimit": 10000
     },
     "inputWidgets": {},
     "nuid": "9cb24182-c24b-4f49-934d-71455c5bc478",
     "showTitle": false,
     "tableResultSettingsMap": {
      "0": {
       "dataGridStateBlob": null,
       "filterBlob": "{\"version\":1,\"filterGroups\":[],\"syncTimestamp\":1750209443885}",
       "queryPlanFiltersBlob": "[]",
       "tableResultIndex": 0
      }
     },
     "title": ""
    }
   },
   "outputs": [
    {
     "output_type": "display_data",
     "data": {
      "text/html": [
       "<style scoped>\n",
       "  .table-result-container {\n",
       "    max-height: 300px;\n",
       "    overflow: auto;\n",
       "  }\n",
       "  table, th, td {\n",
       "    border: 1px solid black;\n",
       "    border-collapse: collapse;\n",
       "  }\n",
       "  th, td {\n",
       "    padding: 5px;\n",
       "  }\n",
       "  th {\n",
       "    text-align: left;\n",
       "  }\n",
       "</style><div class='table-result-container'><table class='table-result'><thead style='background-color: white'><tr><th>order_date</th><th>is_target</th><th>total_pedidos</th><th>pedidos_dia_anterior</th><th>taxa_crescimento_percentual</th></tr></thead><tbody><tr><td>2018-12-03</td><td>control</td><td>13907</td><td>null</td><td>null</td></tr><tr><td>2018-12-03</td><td>target</td><td>19744</td><td>null</td><td>null</td></tr><tr><td>2018-12-04</td><td>control</td><td>12508</td><td>13907</td><td>-10.06</td></tr><tr><td>2018-12-04</td><td>target</td><td>18164</td><td>19744</td><td>-8.00</td></tr><tr><td>2018-12-05</td><td>control</td><td>13120</td><td>12508</td><td>4.89</td></tr><tr><td>2018-12-05</td><td>target</td><td>18788</td><td>18164</td><td>3.44</td></tr><tr><td>2018-12-06</td><td>control</td><td>14259</td><td>13120</td><td>8.68</td></tr><tr><td>2018-12-06</td><td>target</td><td>20425</td><td>18788</td><td>8.71</td></tr><tr><td>2018-12-07</td><td>control</td><td>18590</td><td>14259</td><td>30.37</td></tr><tr><td>2018-12-07</td><td>target</td><td>26061</td><td>20425</td><td>27.59</td></tr><tr><td>2018-12-08</td><td>control</td><td>18867</td><td>18590</td><td>1.49</td></tr><tr><td>2018-12-08</td><td>target</td><td>26367</td><td>26061</td><td>1.17</td></tr><tr><td>2018-12-09</td><td>control</td><td>18177</td><td>18867</td><td>-3.66</td></tr><tr><td>2018-12-09</td><td>target</td><td>25481</td><td>26367</td><td>-3.36</td></tr><tr><td>2018-12-10</td><td>control</td><td>17878</td><td>18177</td><td>-1.64</td></tr><tr><td>2018-12-10</td><td>target</td><td>24903</td><td>25481</td><td>-2.27</td></tr><tr><td>2018-12-11</td><td>control</td><td>22138</td><td>17878</td><td>23.83</td></tr><tr><td>2018-12-11</td><td>target</td><td>30465</td><td>24903</td><td>22.33</td></tr><tr><td>2018-12-12</td><td>control</td><td>20334</td><td>22138</td><td>-8.15</td></tr><tr><td>2018-12-12</td><td>target</td><td>28721</td><td>30465</td><td>-5.72</td></tr><tr><td>2018-12-13</td><td>control</td><td>14637</td><td>20334</td><td>-28.02</td></tr><tr><td>2018-12-13</td><td>target</td><td>20449</td><td>28721</td><td>-28.80</td></tr><tr><td>2018-12-14</td><td>control</td><td>17360</td><td>14637</td><td>18.60</td></tr><tr><td>2018-12-14</td><td>target</td><td>24596</td><td>20449</td><td>20.28</td></tr><tr><td>2018-12-15</td><td>control</td><td>22318</td><td>17360</td><td>28.56</td></tr><tr><td>2018-12-15</td><td>target</td><td>31490</td><td>24596</td><td>28.03</td></tr><tr><td>2018-12-16</td><td>control</td><td>26365</td><td>22318</td><td>18.13</td></tr><tr><td>2018-12-16</td><td>target</td><td>36837</td><td>31490</td><td>16.98</td></tr><tr><td>2018-12-17</td><td>control</td><td>13923</td><td>26365</td><td>-47.19</td></tr><tr><td>2018-12-17</td><td>target</td><td>19600</td><td>36837</td><td>-46.79</td></tr><tr><td>2018-12-18</td><td>control</td><td>12103</td><td>13923</td><td>-13.07</td></tr><tr><td>2018-12-18</td><td>target</td><td>16883</td><td>19600</td><td>-13.86</td></tr><tr><td>2018-12-19</td><td>control</td><td>13061</td><td>12103</td><td>7.92</td></tr><tr><td>2018-12-19</td><td>target</td><td>18484</td><td>16883</td><td>9.48</td></tr><tr><td>2018-12-20</td><td>control</td><td>13440</td><td>13061</td><td>2.90</td></tr><tr><td>2018-12-20</td><td>target</td><td>18839</td><td>18484</td><td>1.92</td></tr><tr><td>2018-12-21</td><td>control</td><td>18424</td><td>13440</td><td>37.08</td></tr><tr><td>2018-12-21</td><td>target</td><td>26359</td><td>18839</td><td>39.92</td></tr><tr><td>2018-12-22</td><td>control</td><td>23638</td><td>18424</td><td>28.30</td></tr><tr><td>2018-12-22</td><td>target</td><td>32442</td><td>26359</td><td>23.08</td></tr><tr><td>2018-12-23</td><td>control</td><td>26074</td><td>23638</td><td>10.31</td></tr><tr><td>2018-12-23</td><td>target</td><td>36048</td><td>32442</td><td>11.12</td></tr><tr><td>2018-12-24</td><td>control</td><td>14022</td><td>26074</td><td>-46.22</td></tr><tr><td>2018-12-24</td><td>target</td><td>19583</td><td>36048</td><td>-45.68</td></tr><tr><td>2018-12-25</td><td>control</td><td>12151</td><td>14022</td><td>-13.34</td></tr><tr><td>2018-12-25</td><td>target</td><td>16643</td><td>19583</td><td>-15.01</td></tr><tr><td>2018-12-26</td><td>control</td><td>13102</td><td>12151</td><td>7.83</td></tr><tr><td>2018-12-26</td><td>target</td><td>18332</td><td>16643</td><td>10.15</td></tr><tr><td>2018-12-27</td><td>control</td><td>13898</td><td>13102</td><td>6.08</td></tr><tr><td>2018-12-27</td><td>target</td><td>19466</td><td>18332</td><td>6.19</td></tr><tr><td>2018-12-28</td><td>control</td><td>17955</td><td>13898</td><td>29.19</td></tr><tr><td>2018-12-28</td><td>target</td><td>25017</td><td>19466</td><td>28.52</td></tr><tr><td>2018-12-29</td><td>control</td><td>25313</td><td>17955</td><td>40.98</td></tr><tr><td>2018-12-29</td><td>target</td><td>34881</td><td>25017</td><td>39.43</td></tr><tr><td>2018-12-30</td><td>control</td><td>30545</td><td>25313</td><td>20.67</td></tr><tr><td>2018-12-30</td><td>target</td><td>41720</td><td>34881</td><td>19.61</td></tr><tr><td>2018-12-31</td><td>control</td><td>16731</td><td>30545</td><td>-45.23</td></tr><tr><td>2018-12-31</td><td>target</td><td>23280</td><td>41720</td><td>-44.20</td></tr><tr><td>2019-01-01</td><td>control</td><td>11207</td><td>16731</td><td>-33.02</td></tr><tr><td>2019-01-01</td><td>target</td><td>15291</td><td>23280</td><td>-34.32</td></tr><tr><td>2019-01-02</td><td>control</td><td>17356</td><td>11207</td><td>54.87</td></tr><tr><td>2019-01-02</td><td>target</td><td>23521</td><td>15291</td><td>53.82</td></tr><tr><td>2019-01-03</td><td>control</td><td>23175</td><td>17356</td><td>33.53</td></tr><tr><td>2019-01-03</td><td>target</td><td>32076</td><td>23521</td><td>36.37</td></tr><tr><td>2019-01-04</td><td>control</td><td>13351</td><td>23175</td><td>-42.39</td></tr><tr><td>2019-01-04</td><td>target</td><td>18729</td><td>32076</td><td>-41.61</td></tr><tr><td>2019-01-05</td><td>control</td><td>11362</td><td>13351</td><td>-14.90</td></tr><tr><td>2019-01-05</td><td>target</td><td>16039</td><td>18729</td><td>-14.36</td></tr><tr><td>2019-01-06</td><td>control</td><td>10905</td><td>11362</td><td>-4.02</td></tr><tr><td>2019-01-06</td><td>target</td><td>15408</td><td>16039</td><td>-3.93</td></tr><tr><td>2019-01-07</td><td>control</td><td>11991</td><td>10905</td><td>9.96</td></tr><tr><td>2019-01-07</td><td>target</td><td>16842</td><td>15408</td><td>9.31</td></tr><tr><td>2019-01-08</td><td>control</td><td>14938</td><td>11991</td><td>24.58</td></tr><tr><td>2019-01-08</td><td>target</td><td>20961</td><td>16842</td><td>24.46</td></tr><tr><td>2019-01-09</td><td>control</td><td>20147</td><td>14938</td><td>34.87</td></tr><tr><td>2019-01-09</td><td>target</td><td>28478</td><td>20961</td><td>35.86</td></tr><tr><td>2019-01-10</td><td>control</td><td>22367</td><td>20147</td><td>11.02</td></tr><tr><td>2019-01-10</td><td>target</td><td>31957</td><td>28478</td><td>12.22</td></tr><tr><td>2019-01-11</td><td>control</td><td>13071</td><td>22367</td><td>-41.56</td></tr><tr><td>2019-01-11</td><td>target</td><td>18405</td><td>31957</td><td>-42.41</td></tr><tr><td>2019-01-12</td><td>control</td><td>11887</td><td>13071</td><td>-9.06</td></tr><tr><td>2019-01-12</td><td>target</td><td>16415</td><td>18405</td><td>-10.81</td></tr><tr><td>2019-01-13</td><td>control</td><td>12135</td><td>11887</td><td>2.09</td></tr><tr><td>2019-01-13</td><td>target</td><td>17203</td><td>16415</td><td>4.80</td></tr><tr><td>2019-01-14</td><td>control</td><td>13431</td><td>12135</td><td>10.68</td></tr><tr><td>2019-01-14</td><td>target</td><td>18704</td><td>17203</td><td>8.73</td></tr><tr><td>2019-01-15</td><td>control</td><td>17217</td><td>13431</td><td>28.19</td></tr><tr><td>2019-01-15</td><td>target</td><td>24022</td><td>18704</td><td>28.43</td></tr><tr><td>2019-01-16</td><td>control</td><td>19752</td><td>17217</td><td>14.72</td></tr><tr><td>2019-01-16</td><td>target</td><td>27818</td><td>24022</td><td>15.80</td></tr><tr><td>2019-01-17</td><td>control</td><td>23244</td><td>19752</td><td>17.68</td></tr><tr><td>2019-01-17</td><td>target</td><td>32693</td><td>27818</td><td>17.52</td></tr><tr><td>2019-01-18</td><td>control</td><td>13075</td><td>23244</td><td>-43.75</td></tr><tr><td>2019-01-18</td><td>target</td><td>18252</td><td>32693</td><td>-44.17</td></tr><tr><td>2019-01-19</td><td>control</td><td>12109</td><td>13075</td><td>-7.39</td></tr><tr><td>2019-01-19</td><td>target</td><td>17130</td><td>18252</td><td>-6.15</td></tr><tr><td>2019-01-20</td><td>control</td><td>14141</td><td>12109</td><td>16.78</td></tr><tr><td>2019-01-20</td><td>target</td><td>20009</td><td>17130</td><td>16.81</td></tr><tr><td>2019-01-21</td><td>control</td><td>13126</td><td>14141</td><td>-7.18</td></tr><tr><td>2019-01-21</td><td>target</td><td>18610</td><td>20009</td><td>-6.99</td></tr><tr><td>2019-01-22</td><td>control</td><td>16837</td><td>13126</td><td>28.27</td></tr><tr><td>2019-01-22</td><td>target</td><td>23625</td><td>18610</td><td>26.95</td></tr><tr><td>2019-01-23</td><td>control</td><td>19162</td><td>16837</td><td>13.81</td></tr><tr><td>2019-01-23</td><td>target</td><td>26784</td><td>23625</td><td>13.37</td></tr><tr><td>2019-01-24</td><td>control</td><td>23203</td><td>19162</td><td>21.09</td></tr><tr><td>2019-01-24</td><td>target</td><td>32708</td><td>26784</td><td>22.12</td></tr><tr><td>2019-01-25</td><td>control</td><td>15560</td><td>23203</td><td>-32.94</td></tr><tr><td>2019-01-25</td><td>target</td><td>22068</td><td>32708</td><td>-32.53</td></tr><tr><td>2019-01-26</td><td>control</td><td>11763</td><td>15560</td><td>-24.40</td></tr><tr><td>2019-01-26</td><td>target</td><td>16720</td><td>22068</td><td>-24.23</td></tr><tr><td>2019-01-27</td><td>control</td><td>12804</td><td>11763</td><td>8.85</td></tr><tr><td>2019-01-27</td><td>target</td><td>18290</td><td>16720</td><td>9.39</td></tr><tr><td>2019-01-28</td><td>control</td><td>13270</td><td>12804</td><td>3.64</td></tr><tr><td>2019-01-28</td><td>target</td><td>19137</td><td>18290</td><td>4.63</td></tr><tr><td>2019-01-29</td><td>control</td><td>16981</td><td>13270</td><td>27.97</td></tr><tr><td>2019-01-29</td><td>target</td><td>24193</td><td>19137</td><td>26.42</td></tr><tr><td>2019-01-30</td><td>control</td><td>21263</td><td>16981</td><td>25.22</td></tr><tr><td>2019-01-30</td><td>target</td><td>29753</td><td>24193</td><td>22.98</td></tr><tr><td>2019-01-31</td><td>control</td><td>25070</td><td>21263</td><td>17.90</td></tr><tr><td>2019-01-31</td><td>target</td><td>34768</td><td>29753</td><td>16.86</td></tr></tbody></table></div>"
      ]
     },
     "metadata": {
      "application/vnd.databricks.v1+output": {
       "addedWidgets": {},
       "aggData": [],
       "aggError": "",
       "aggOverflow": false,
       "aggSchema": [],
       "aggSeriesLimitReached": false,
       "aggType": "",
       "arguments": {},
       "columnCustomDisplayInfos": {},
       "data": [
        [
         "2018-12-03",
         "control",
         13907,
         null,
         null
        ],
        [
         "2018-12-03",
         "target",
         19744,
         null,
         null
        ],
        [
         "2018-12-04",
         "control",
         12508,
         13907,
         "-10.06"
        ],
        [
         "2018-12-04",
         "target",
         18164,
         19744,
         "-8.00"
        ],
        [
         "2018-12-05",
         "control",
         13120,
         12508,
         "4.89"
        ],
        [
         "2018-12-05",
         "target",
         18788,
         18164,
         "3.44"
        ],
        [
         "2018-12-06",
         "control",
         14259,
         13120,
         "8.68"
        ],
        [
         "2018-12-06",
         "target",
         20425,
         18788,
         "8.71"
        ],
        [
         "2018-12-07",
         "control",
         18590,
         14259,
         "30.37"
        ],
        [
         "2018-12-07",
         "target",
         26061,
         20425,
         "27.59"
        ],
        [
         "2018-12-08",
         "control",
         18867,
         18590,
         "1.49"
        ],
        [
         "2018-12-08",
         "target",
         26367,
         26061,
         "1.17"
        ],
        [
         "2018-12-09",
         "control",
         18177,
         18867,
         "-3.66"
        ],
        [
         "2018-12-09",
         "target",
         25481,
         26367,
         "-3.36"
        ],
        [
         "2018-12-10",
         "control",
         17878,
         18177,
         "-1.64"
        ],
        [
         "2018-12-10",
         "target",
         24903,
         25481,
         "-2.27"
        ],
        [
         "2018-12-11",
         "control",
         22138,
         17878,
         "23.83"
        ],
        [
         "2018-12-11",
         "target",
         30465,
         24903,
         "22.33"
        ],
        [
         "2018-12-12",
         "control",
         20334,
         22138,
         "-8.15"
        ],
        [
         "2018-12-12",
         "target",
         28721,
         30465,
         "-5.72"
        ],
        [
         "2018-12-13",
         "control",
         14637,
         20334,
         "-28.02"
        ],
        [
         "2018-12-13",
         "target",
         20449,
         28721,
         "-28.80"
        ],
        [
         "2018-12-14",
         "control",
         17360,
         14637,
         "18.60"
        ],
        [
         "2018-12-14",
         "target",
         24596,
         20449,
         "20.28"
        ],
        [
         "2018-12-15",
         "control",
         22318,
         17360,
         "28.56"
        ],
        [
         "2018-12-15",
         "target",
         31490,
         24596,
         "28.03"
        ],
        [
         "2018-12-16",
         "control",
         26365,
         22318,
         "18.13"
        ],
        [
         "2018-12-16",
         "target",
         36837,
         31490,
         "16.98"
        ],
        [
         "2018-12-17",
         "control",
         13923,
         26365,
         "-47.19"
        ],
        [
         "2018-12-17",
         "target",
         19600,
         36837,
         "-46.79"
        ],
        [
         "2018-12-18",
         "control",
         12103,
         13923,
         "-13.07"
        ],
        [
         "2018-12-18",
         "target",
         16883,
         19600,
         "-13.86"
        ],
        [
         "2018-12-19",
         "control",
         13061,
         12103,
         "7.92"
        ],
        [
         "2018-12-19",
         "target",
         18484,
         16883,
         "9.48"
        ],
        [
         "2018-12-20",
         "control",
         13440,
         13061,
         "2.90"
        ],
        [
         "2018-12-20",
         "target",
         18839,
         18484,
         "1.92"
        ],
        [
         "2018-12-21",
         "control",
         18424,
         13440,
         "37.08"
        ],
        [
         "2018-12-21",
         "target",
         26359,
         18839,
         "39.92"
        ],
        [
         "2018-12-22",
         "control",
         23638,
         18424,
         "28.30"
        ],
        [
         "2018-12-22",
         "target",
         32442,
         26359,
         "23.08"
        ],
        [
         "2018-12-23",
         "control",
         26074,
         23638,
         "10.31"
        ],
        [
         "2018-12-23",
         "target",
         36048,
         32442,
         "11.12"
        ],
        [
         "2018-12-24",
         "control",
         14022,
         26074,
         "-46.22"
        ],
        [
         "2018-12-24",
         "target",
         19583,
         36048,
         "-45.68"
        ],
        [
         "2018-12-25",
         "control",
         12151,
         14022,
         "-13.34"
        ],
        [
         "2018-12-25",
         "target",
         16643,
         19583,
         "-15.01"
        ],
        [
         "2018-12-26",
         "control",
         13102,
         12151,
         "7.83"
        ],
        [
         "2018-12-26",
         "target",
         18332,
         16643,
         "10.15"
        ],
        [
         "2018-12-27",
         "control",
         13898,
         13102,
         "6.08"
        ],
        [
         "2018-12-27",
         "target",
         19466,
         18332,
         "6.19"
        ],
        [
         "2018-12-28",
         "control",
         17955,
         13898,
         "29.19"
        ],
        [
         "2018-12-28",
         "target",
         25017,
         19466,
         "28.52"
        ],
        [
         "2018-12-29",
         "control",
         25313,
         17955,
         "40.98"
        ],
        [
         "2018-12-29",
         "target",
         34881,
         25017,
         "39.43"
        ],
        [
         "2018-12-30",
         "control",
         30545,
         25313,
         "20.67"
        ],
        [
         "2018-12-30",
         "target",
         41720,
         34881,
         "19.61"
        ],
        [
         "2018-12-31",
         "control",
         16731,
         30545,
         "-45.23"
        ],
        [
         "2018-12-31",
         "target",
         23280,
         41720,
         "-44.20"
        ],
        [
         "2019-01-01",
         "control",
         11207,
         16731,
         "-33.02"
        ],
        [
         "2019-01-01",
         "target",
         15291,
         23280,
         "-34.32"
        ],
        [
         "2019-01-02",
         "control",
         17356,
         11207,
         "54.87"
        ],
        [
         "2019-01-02",
         "target",
         23521,
         15291,
         "53.82"
        ],
        [
         "2019-01-03",
         "control",
         23175,
         17356,
         "33.53"
        ],
        [
         "2019-01-03",
         "target",
         32076,
         23521,
         "36.37"
        ],
        [
         "2019-01-04",
         "control",
         13351,
         23175,
         "-42.39"
        ],
        [
         "2019-01-04",
         "target",
         18729,
         32076,
         "-41.61"
        ],
        [
         "2019-01-05",
         "control",
         11362,
         13351,
         "-14.90"
        ],
        [
         "2019-01-05",
         "target",
         16039,
         18729,
         "-14.36"
        ],
        [
         "2019-01-06",
         "control",
         10905,
         11362,
         "-4.02"
        ],
        [
         "2019-01-06",
         "target",
         15408,
         16039,
         "-3.93"
        ],
        [
         "2019-01-07",
         "control",
         11991,
         10905,
         "9.96"
        ],
        [
         "2019-01-07",
         "target",
         16842,
         15408,
         "9.31"
        ],
        [
         "2019-01-08",
         "control",
         14938,
         11991,
         "24.58"
        ],
        [
         "2019-01-08",
         "target",
         20961,
         16842,
         "24.46"
        ],
        [
         "2019-01-09",
         "control",
         20147,
         14938,
         "34.87"
        ],
        [
         "2019-01-09",
         "target",
         28478,
         20961,
         "35.86"
        ],
        [
         "2019-01-10",
         "control",
         22367,
         20147,
         "11.02"
        ],
        [
         "2019-01-10",
         "target",
         31957,
         28478,
         "12.22"
        ],
        [
         "2019-01-11",
         "control",
         13071,
         22367,
         "-41.56"
        ],
        [
         "2019-01-11",
         "target",
         18405,
         31957,
         "-42.41"
        ],
        [
         "2019-01-12",
         "control",
         11887,
         13071,
         "-9.06"
        ],
        [
         "2019-01-12",
         "target",
         16415,
         18405,
         "-10.81"
        ],
        [
         "2019-01-13",
         "control",
         12135,
         11887,
         "2.09"
        ],
        [
         "2019-01-13",
         "target",
         17203,
         16415,
         "4.80"
        ],
        [
         "2019-01-14",
         "control",
         13431,
         12135,
         "10.68"
        ],
        [
         "2019-01-14",
         "target",
         18704,
         17203,
         "8.73"
        ],
        [
         "2019-01-15",
         "control",
         17217,
         13431,
         "28.19"
        ],
        [
         "2019-01-15",
         "target",
         24022,
         18704,
         "28.43"
        ],
        [
         "2019-01-16",
         "control",
         19752,
         17217,
         "14.72"
        ],
        [
         "2019-01-16",
         "target",
         27818,
         24022,
         "15.80"
        ],
        [
         "2019-01-17",
         "control",
         23244,
         19752,
         "17.68"
        ],
        [
         "2019-01-17",
         "target",
         32693,
         27818,
         "17.52"
        ],
        [
         "2019-01-18",
         "control",
         13075,
         23244,
         "-43.75"
        ],
        [
         "2019-01-18",
         "target",
         18252,
         32693,
         "-44.17"
        ],
        [
         "2019-01-19",
         "control",
         12109,
         13075,
         "-7.39"
        ],
        [
         "2019-01-19",
         "target",
         17130,
         18252,
         "-6.15"
        ],
        [
         "2019-01-20",
         "control",
         14141,
         12109,
         "16.78"
        ],
        [
         "2019-01-20",
         "target",
         20009,
         17130,
         "16.81"
        ],
        [
         "2019-01-21",
         "control",
         13126,
         14141,
         "-7.18"
        ],
        [
         "2019-01-21",
         "target",
         18610,
         20009,
         "-6.99"
        ],
        [
         "2019-01-22",
         "control",
         16837,
         13126,
         "28.27"
        ],
        [
         "2019-01-22",
         "target",
         23625,
         18610,
         "26.95"
        ],
        [
         "2019-01-23",
         "control",
         19162,
         16837,
         "13.81"
        ],
        [
         "2019-01-23",
         "target",
         26784,
         23625,
         "13.37"
        ],
        [
         "2019-01-24",
         "control",
         23203,
         19162,
         "21.09"
        ],
        [
         "2019-01-24",
         "target",
         32708,
         26784,
         "22.12"
        ],
        [
         "2019-01-25",
         "control",
         15560,
         23203,
         "-32.94"
        ],
        [
         "2019-01-25",
         "target",
         22068,
         32708,
         "-32.53"
        ],
        [
         "2019-01-26",
         "control",
         11763,
         15560,
         "-24.40"
        ],
        [
         "2019-01-26",
         "target",
         16720,
         22068,
         "-24.23"
        ],
        [
         "2019-01-27",
         "control",
         12804,
         11763,
         "8.85"
        ],
        [
         "2019-01-27",
         "target",
         18290,
         16720,
         "9.39"
        ],
        [
         "2019-01-28",
         "control",
         13270,
         12804,
         "3.64"
        ],
        [
         "2019-01-28",
         "target",
         19137,
         18290,
         "4.63"
        ],
        [
         "2019-01-29",
         "control",
         16981,
         13270,
         "27.97"
        ],
        [
         "2019-01-29",
         "target",
         24193,
         19137,
         "26.42"
        ],
        [
         "2019-01-30",
         "control",
         21263,
         16981,
         "25.22"
        ],
        [
         "2019-01-30",
         "target",
         29753,
         24193,
         "22.98"
        ],
        [
         "2019-01-31",
         "control",
         25070,
         21263,
         "17.90"
        ],
        [
         "2019-01-31",
         "target",
         34768,
         29753,
         "16.86"
        ]
       ],
       "datasetInfos": [
        {
         "name": "_sqldf",
         "schema": {
          "fields": [
           {
            "metadata": {},
            "name": "order_date",
            "nullable": true,
            "type": "date"
           },
           {
            "metadata": {},
            "name": "is_target",
            "nullable": true,
            "type": "string"
           },
           {
            "metadata": {},
            "name": "total_pedidos",
            "nullable": false,
            "type": "long"
           },
           {
            "metadata": {},
            "name": "pedidos_dia_anterior",
            "nullable": true,
            "type": "long"
           },
           {
            "metadata": {},
            "name": "taxa_crescimento_percentual",
            "nullable": true,
            "type": "decimal(27,2)"
           }
          ],
          "type": "struct"
         },
         "tableIdentifier": null,
         "typeStr": "pyspark.sql.dataframe.DataFrame"
        }
       ],
       "dbfsResultPath": null,
       "isJsonSchema": true,
       "metadata": {
        "createTempViewForImplicitDf": true,
        "dataframeName": "_sqldf",
        "executionCount": 174
       },
       "overflow": false,
       "plotOptions": {
        "customPlotOptions": {},
        "displayType": "table",
        "pivotAggregation": null,
        "pivotColumns": null,
        "xColumns": null,
        "yColumns": null
       },
       "removedWidgets": [],
       "schema": [
        {
         "metadata": "{}",
         "name": "order_date",
         "type": "\"date\""
        },
        {
         "metadata": "{}",
         "name": "is_target",
         "type": "\"string\""
        },
        {
         "metadata": "{}",
         "name": "total_pedidos",
         "type": "\"long\""
        },
        {
         "metadata": "{}",
         "name": "pedidos_dia_anterior",
         "type": "\"long\""
        },
        {
         "metadata": "{}",
         "name": "taxa_crescimento_percentual",
         "type": "\"decimal(27,2)\""
        }
       ],
       "type": "table"
      }
     },
     "output_type": "display_data"
    },
    {
     "output_type": "display_data",
     "data": {
      "text/plain": [
       "Databricks visualization. Run in Databricks to view."
      ]
     },
     "metadata": {
      "application/vnd.databricks.v1.subcommand+json": {
       "baseErrorDetails": null,
       "bindings": {},
       "collapsed": false,
       "command": "%sql WITH q AS (WITH pedidos_por_dia AS (\n  SELECT\n    r.order_date,\n    a.is_target,\n    COUNT(DISTINCT r.order_id) AS total_pedidos\n  FROM analytics.orders r\n  INNER JOIN analytics.ab_test_users a\n    ON a.customer_id = r.customer_id\n  GROUP BY r.order_date, a.is_target\n),\n\ncrescimento_diario AS (\n  SELECT\n    order_date,\n    is_target,\n    total_pedidos,\n    LAG(total_pedidos) OVER (\n      PARTITION BY is_target\n      ORDER BY order_date\n    ) AS pedidos_dia_anterior\n  FROM pedidos_por_dia\n)\n\nSELECT\n  order_date,\n  is_target,\n  total_pedidos,\n  pedidos_dia_anterior,\n  CASE\n    WHEN pedidos_dia_anterior IS NULL OR pedidos_dia_anterior = 0 THEN NULL\n    ELSE ROUND(\n      (total_pedidos - pedidos_dia_anterior) * 100.0 / pedidos_dia_anterior, 2\n    )\n  END AS taxa_crescimento_percentual\nFROM crescimento_diario\nORDER BY order_date, is_target) SELECT `order_date`,SUM(`taxa_crescimento_percentual`) `column_dc840b5e406`,`is_target` FROM q GROUP BY `is_target`,`order_date`",
       "commandTitle": "Visualization 1",
       "commandType": "auto",
       "commandVersion": 0,
       "commentThread": [],
       "commentsVisible": false,
       "contentSha256Hex": null,
       "customPlotOptions": {
        "redashChart": [
         {
          "key": "type",
          "value": "CHART"
         },
         {
          "key": "options",
          "value": {
           "alignYAxesAtZero": true,
           "coefficient": 1,
           "columnConfigurationMap": {
            "series": {
             "column": "is_target",
             "id": "column_dc840b5e408"
            },
            "x": {
             "column": "order_date",
             "id": "column_dc840b5e403"
            },
            "y": [
             {
              "column": "taxa_crescimento_percentual",
              "id": "column_dc840b5e406",
              "transform": "SUM"
             }
            ]
           },
           "dateTimeFormat": "DD/MM/YYYY HH:mm",
           "direction": {
            "type": "counterclockwise"
           },
           "error_y": {
            "type": "data",
            "visible": true
           },
           "globalSeriesType": "line",
           "isAggregationOn": true,
           "legend": {
            "traceorder": "normal"
           },
           "missingValuesAsZero": true,
           "numberFormat": "0,0.[00000]",
           "percentFormat": "0[.]00%",
           "series": {
            "error_y": {
             "type": "data",
             "visible": true
            },
            "stacking": null
           },
           "seriesOptions": {
            "column_dc840b5e406": {
             "type": "line",
             "yAxis": 0
            }
           },
           "showDataLabels": false,
           "sizemode": "diameter",
           "sortX": true,
           "sortY": true,
           "swappedAxes": false,
           "textFormat": "",
           "useAggregationsUi": true,
           "valuesOptions": {},
           "version": 2,
           "xAxis": {
            "labels": {
             "enabled": true
            },
            "type": "-"
           },
           "yAxis": [
            {
             "type": "-"
            },
            {
             "opposite": true,
             "type": "-"
            }
           ]
          }
         }
        ]
       },
       "datasetPreviewNameToCmdIdMap": {},
       "diffDeletes": [],
       "diffInserts": [],
       "displayType": "redashChart",
       "error": null,
       "errorDetails": null,
       "errorSummary": null,
       "errorTraceType": null,
       "finishTime": 0,
       "globalVars": {},
       "guid": "",
       "height": "auto",
       "hideCommandCode": false,
       "hideCommandResult": false,
       "iPythonMetadata": null,
       "inputWidgets": {},
       "isLockedInExamMode": false,
       "latestUser": "a user",
       "latestUserId": null,
       "listResultMetadata": null,
       "metadata": {},
       "nuid": "077da833-bd33-4f9e-839d-aece5d8375ca",
       "origId": 0,
       "parentHierarchy": [],
       "pivotAggregation": null,
       "pivotColumns": null,
       "position": 37.5,
       "resultDbfsErrorMessage": null,
       "resultDbfsStatus": "INLINED_IN_TREE",
       "results": null,
       "showCommandTitle": false,
       "startTime": 0,
       "state": "input",
       "streamStates": {},
       "subcommandOptions": {
        "queryPlan": {
         "groups": [
          {
           "column": "order_date",
           "type": "column"
          },
          {
           "column": "is_target",
           "type": "column"
          }
         ],
         "selects": [
          {
           "column": "order_date",
           "type": "column"
          },
          {
           "alias": "column_dc840b5e406",
           "args": [
            {
             "column": "taxa_crescimento_percentual",
             "type": "column"
            }
           ],
           "function": "SUM",
           "type": "function"
          },
          {
           "column": "is_target",
           "type": "column"
          }
         ]
        }
       },
       "submitTime": 0,
       "subtype": "tableResultSubCmd.visualization",
       "tableResultIndex": 0,
       "tableResultSettingsMap": {},
       "useConsistentColors": false,
       "version": "CommandV1",
       "width": "auto",
       "workflows": [],
       "xColumns": null,
       "yColumns": null
      }
     },
     "output_type": "display_data"
    }
   ],
   "source": [
    "%sql\n",
    "\n",
    "WITH pedidos_por_dia AS (\n",
    "  SELECT\n",
    "    r.order_date,\n",
    "    a.is_target,\n",
    "    COUNT(DISTINCT r.order_id) AS total_pedidos\n",
    "  FROM analytics.orders r\n",
    "  INNER JOIN analytics.ab_test_users a\n",
    "    ON a.customer_id = r.customer_id\n",
    "  GROUP BY r.order_date, a.is_target\n",
    "),\n",
    "\n",
    "crescimento_diario AS (\n",
    "  SELECT\n",
    "    order_date,\n",
    "    is_target,\n",
    "    total_pedidos,\n",
    "    LAG(total_pedidos) OVER (\n",
    "      PARTITION BY is_target\n",
    "      ORDER BY order_date\n",
    "    ) AS pedidos_dia_anterior\n",
    "  FROM pedidos_por_dia\n",
    ")\n",
    "\n",
    "SELECT\n",
    "  order_date,\n",
    "  is_target,\n",
    "  total_pedidos,\n",
    "  pedidos_dia_anterior,\n",
    "  CASE\n",
    "    WHEN pedidos_dia_anterior IS NULL OR pedidos_dia_anterior = 0 THEN NULL\n",
    "    ELSE ROUND(\n",
    "      (total_pedidos - pedidos_dia_anterior) * 100.0 / pedidos_dia_anterior, 2\n",
    "    )\n",
    "  END AS taxa_crescimento_percentual\n",
    "FROM crescimento_diario\n",
    "ORDER BY order_date, is_target\n"
   ]
  },
  {
   "cell_type": "markdown",
   "metadata": {
    "application/vnd.databricks.v1+cell": {
     "cellMetadata": {},
     "inputWidgets": {},
     "nuid": "f2cde4cf-5da3-41f5-afef-0abdb2654164",
     "showTitle": false,
     "tableResultSettingsMap": {},
     "title": ""
    }
   },
   "source": [
    "## Valor Médio de Pedidos"
   ]
  },
  {
   "cell_type": "code",
   "execution_count": 0,
   "metadata": {
    "application/vnd.databricks.v1+cell": {
     "cellMetadata": {
      "byteLimit": 2048000,
      "implicitDf": true,
      "rowLimit": 10000
     },
     "inputWidgets": {},
     "nuid": "6fcc4534-65f1-421f-8d75-6d310347d02a",
     "showTitle": false,
     "tableResultSettingsMap": {},
     "title": ""
    }
   },
   "outputs": [
    {
     "output_type": "display_data",
     "data": {
      "text/html": [
       "<style scoped>\n",
       "  .table-result-container {\n",
       "    max-height: 300px;\n",
       "    overflow: auto;\n",
       "  }\n",
       "  table, th, td {\n",
       "    border: 1px solid black;\n",
       "    border-collapse: collapse;\n",
       "  }\n",
       "  th, td {\n",
       "    padding: 5px;\n",
       "  }\n",
       "  th {\n",
       "    text-align: left;\n",
       "  }\n",
       "</style><div class='table-result-container'><table class='table-result'><thead style='background-color: white'><tr><th>is_target</th><th>avg_total_amount</th></tr></thead><tbody><tr><td>control</td><td>47.92</td></tr><tr><td>target</td><td>47.81</td></tr></tbody></table></div>"
      ]
     },
     "metadata": {
      "application/vnd.databricks.v1+output": {
       "addedWidgets": {},
       "aggData": [],
       "aggError": "",
       "aggOverflow": false,
       "aggSchema": [],
       "aggSeriesLimitReached": false,
       "aggType": "",
       "arguments": {},
       "columnCustomDisplayInfos": {},
       "data": [
        [
         "control",
         47.92
        ],
        [
         "target",
         47.81
        ]
       ],
       "datasetInfos": [
        {
         "name": "_sqldf",
         "schema": {
          "fields": [
           {
            "metadata": {},
            "name": "is_target",
            "nullable": true,
            "type": "string"
           },
           {
            "metadata": {},
            "name": "avg_total_amount",
            "nullable": true,
            "type": "double"
           }
          ],
          "type": "struct"
         },
         "tableIdentifier": null,
         "typeStr": "pyspark.sql.dataframe.DataFrame"
        }
       ],
       "dbfsResultPath": null,
       "isJsonSchema": true,
       "metadata": {
        "createTempViewForImplicitDf": true,
        "dataframeName": "_sqldf",
        "executionCount": 178
       },
       "overflow": false,
       "plotOptions": {
        "customPlotOptions": {},
        "displayType": "table",
        "pivotAggregation": null,
        "pivotColumns": null,
        "xColumns": null,
        "yColumns": null
       },
       "removedWidgets": [],
       "schema": [
        {
         "metadata": "{}",
         "name": "is_target",
         "type": "\"string\""
        },
        {
         "metadata": "{}",
         "name": "avg_total_amount",
         "type": "\"double\""
        }
       ],
       "type": "table"
      }
     },
     "output_type": "display_data"
    }
   ],
   "source": [
    "%sql\n",
    "-- valor médio\n",
    "select is_target,\n",
    "       round(avg(order_total_amount),2) as avg_total_amount\n",
    "from analytics.orders r\n",
    "inner join analytics.ab_test_users a\n",
    "on a.customer_id = r.customer_id\n",
    "group by is_target"
   ]
  },
  {
   "cell_type": "code",
   "execution_count": 0,
   "metadata": {
    "application/vnd.databricks.v1+cell": {
     "cellMetadata": {
      "byteLimit": 2048000,
      "implicitDf": true,
      "rowLimit": 10000
     },
     "inputWidgets": {},
     "nuid": "d366d4bf-12fd-4010-aa6a-b321aa47e09c",
     "showTitle": false,
     "tableResultSettingsMap": {},
     "title": ""
    }
   },
   "outputs": [
    {
     "output_type": "display_data",
     "data": {
      "text/html": [
       "<style scoped>\n",
       "  .table-result-container {\n",
       "    max-height: 300px;\n",
       "    overflow: auto;\n",
       "  }\n",
       "  table, th, td {\n",
       "    border: 1px solid black;\n",
       "    border-collapse: collapse;\n",
       "  }\n",
       "  th, td {\n",
       "    padding: 5px;\n",
       "  }\n",
       "  th {\n",
       "    text-align: left;\n",
       "  }\n",
       "</style><div class='table-result-container'><table class='table-result'><thead style='background-color: white'><tr><th>is_target</th><th>order_date</th><th>median_total_amount</th></tr></thead><tbody><tr><td>control</td><td>2018-12-03</td><td>36.0</td></tr><tr><td>target</td><td>2018-12-03</td><td>36.0</td></tr><tr><td>control</td><td>2018-12-04</td><td>35.5</td></tr><tr><td>target</td><td>2018-12-04</td><td>35.69</td></tr><tr><td>control</td><td>2018-12-05</td><td>36.3</td></tr><tr><td>target</td><td>2018-12-05</td><td>36.0</td></tr><tr><td>control</td><td>2018-12-06</td><td>36.7</td></tr><tr><td>target</td><td>2018-12-06</td><td>36.8</td></tr><tr><td>control</td><td>2018-12-07</td><td>40.0</td></tr><tr><td>target</td><td>2018-12-07</td><td>40.0</td></tr><tr><td>control</td><td>2018-12-08</td><td>42.51</td></tr><tr><td>target</td><td>2018-12-08</td><td>42.0</td></tr><tr><td>control</td><td>2018-12-09</td><td>43.5</td></tr><tr><td>target</td><td>2018-12-09</td><td>43.0</td></tr><tr><td>control</td><td>2018-12-10</td><td>42.5</td></tr><tr><td>target</td><td>2018-12-10</td><td>42.0</td></tr><tr><td>control</td><td>2018-12-11</td><td>43.5</td></tr><tr><td>target</td><td>2018-12-11</td><td>43.5</td></tr><tr><td>control</td><td>2018-12-12</td><td>40.0</td></tr><tr><td>target</td><td>2018-12-12</td><td>40.0</td></tr><tr><td>control</td><td>2018-12-13</td><td>36.0</td></tr><tr><td>target</td><td>2018-12-13</td><td>36.0</td></tr><tr><td>control</td><td>2018-12-14</td><td>39.7</td></tr><tr><td>target</td><td>2018-12-14</td><td>39.2</td></tr><tr><td>control</td><td>2018-12-15</td><td>41.8</td></tr><tr><td>target</td><td>2018-12-15</td><td>41.9</td></tr><tr><td>control</td><td>2018-12-16</td><td>42.9</td></tr><tr><td>target</td><td>2018-12-16</td><td>42.85</td></tr><tr><td>control</td><td>2018-12-17</td><td>35.7</td></tr><tr><td>target</td><td>2018-12-17</td><td>35.7</td></tr><tr><td>control</td><td>2018-12-18</td><td>34.99</td></tr><tr><td>target</td><td>2018-12-18</td><td>35.0</td></tr><tr><td>control</td><td>2018-12-19</td><td>35.48</td></tr><tr><td>target</td><td>2018-12-19</td><td>35.9</td></tr><tr><td>control</td><td>2018-12-20</td><td>36.0</td></tr><tr><td>target</td><td>2018-12-20</td><td>35.98</td></tr><tr><td>control</td><td>2018-12-21</td><td>39.99</td></tr><tr><td>target</td><td>2018-12-21</td><td>40.0</td></tr><tr><td>control</td><td>2018-12-22</td><td>41.9</td></tr><tr><td>target</td><td>2018-12-22</td><td>42.0</td></tr><tr><td>control</td><td>2018-12-23</td><td>43.0</td></tr><tr><td>target</td><td>2018-12-23</td><td>42.98</td></tr><tr><td>control</td><td>2018-12-24</td><td>35.4</td></tr><tr><td>target</td><td>2018-12-24</td><td>35.5</td></tr><tr><td>control</td><td>2018-12-25</td><td>34.7</td></tr><tr><td>target</td><td>2018-12-25</td><td>34.2</td></tr><tr><td>control</td><td>2018-12-26</td><td>35.2</td></tr><tr><td>target</td><td>2018-12-26</td><td>35.0</td></tr><tr><td>control</td><td>2018-12-27</td><td>35.8</td></tr><tr><td>target</td><td>2018-12-27</td><td>36.0</td></tr><tr><td>control</td><td>2018-12-28</td><td>39.3</td></tr><tr><td>target</td><td>2018-12-28</td><td>39.0</td></tr><tr><td>control</td><td>2018-12-29</td><td>42.0</td></tr><tr><td>target</td><td>2018-12-29</td><td>41.9</td></tr><tr><td>control</td><td>2018-12-30</td><td>43.0</td></tr><tr><td>target</td><td>2018-12-30</td><td>43.1</td></tr><tr><td>control</td><td>2018-12-31</td><td>36.4</td></tr><tr><td>target</td><td>2018-12-31</td><td>36.0</td></tr><tr><td>control</td><td>2019-01-01</td><td>46.0</td></tr><tr><td>target</td><td>2019-01-01</td><td>45.4</td></tr><tr><td>control</td><td>2019-01-02</td><td>43.9</td></tr><tr><td>target</td><td>2019-01-02</td><td>43.8</td></tr><tr><td>control</td><td>2019-01-03</td><td>43.5</td></tr><tr><td>target</td><td>2019-01-03</td><td>43.5</td></tr><tr><td>control</td><td>2019-01-04</td><td>37.0</td></tr><tr><td>target</td><td>2019-01-04</td><td>36.96</td></tr><tr><td>control</td><td>2019-01-05</td><td>36.8</td></tr><tr><td>target</td><td>2019-01-05</td><td>36.7</td></tr><tr><td>control</td><td>2019-01-06</td><td>36.5</td></tr><tr><td>target</td><td>2019-01-06</td><td>36.5</td></tr><tr><td>control</td><td>2019-01-07</td><td>36.9</td></tr><tr><td>target</td><td>2019-01-07</td><td>36.96</td></tr><tr><td>control</td><td>2019-01-08</td><td>39.0</td></tr><tr><td>target</td><td>2019-01-08</td><td>39.3</td></tr><tr><td>control</td><td>2019-01-09</td><td>42.0</td></tr><tr><td>target</td><td>2019-01-09</td><td>42.0</td></tr><tr><td>control</td><td>2019-01-10</td><td>42.9</td></tr><tr><td>target</td><td>2019-01-10</td><td>42.9</td></tr><tr><td>control</td><td>2019-01-11</td><td>35.9</td></tr><tr><td>target</td><td>2019-01-11</td><td>36.0</td></tr><tr><td>control</td><td>2019-01-12</td><td>35.5</td></tr><tr><td>target</td><td>2019-01-12</td><td>35.5</td></tr><tr><td>control</td><td>2019-01-13</td><td>35.8</td></tr><tr><td>target</td><td>2019-01-13</td><td>36.0</td></tr><tr><td>control</td><td>2019-01-14</td><td>36.0</td></tr><tr><td>target</td><td>2019-01-14</td><td>36.8</td></tr><tr><td>control</td><td>2019-01-15</td><td>39.9</td></tr><tr><td>target</td><td>2019-01-15</td><td>40.0</td></tr><tr><td>control</td><td>2019-01-16</td><td>41.95</td></tr><tr><td>target</td><td>2019-01-16</td><td>42.0</td></tr><tr><td>control</td><td>2019-01-17</td><td>42.7</td></tr><tr><td>target</td><td>2019-01-17</td><td>42.5</td></tr><tr><td>control</td><td>2019-01-18</td><td>35.8</td></tr><tr><td>target</td><td>2019-01-18</td><td>35.8</td></tr><tr><td>control</td><td>2019-01-19</td><td>35.9</td></tr><tr><td>target</td><td>2019-01-19</td><td>35.5</td></tr><tr><td>control</td><td>2019-01-20</td><td>37.7</td></tr><tr><td>target</td><td>2019-01-20</td><td>37.8</td></tr><tr><td>control</td><td>2019-01-21</td><td>36.5</td></tr><tr><td>target</td><td>2019-01-21</td><td>36.0</td></tr><tr><td>control</td><td>2019-01-22</td><td>39.8</td></tr><tr><td>target</td><td>2019-01-22</td><td>39.5</td></tr><tr><td>control</td><td>2019-01-23</td><td>40.9</td></tr><tr><td>target</td><td>2019-01-23</td><td>40.9</td></tr><tr><td>control</td><td>2019-01-24</td><td>42.4</td></tr><tr><td>target</td><td>2019-01-24</td><td>42.0</td></tr><tr><td>control</td><td>2019-01-25</td><td>39.4</td></tr><tr><td>target</td><td>2019-01-25</td><td>39.3</td></tr><tr><td>control</td><td>2019-01-26</td><td>35.3</td></tr><tr><td>target</td><td>2019-01-26</td><td>35.0</td></tr><tr><td>control</td><td>2019-01-27</td><td>36.37</td></tr><tr><td>target</td><td>2019-01-27</td><td>36.4</td></tr><tr><td>control</td><td>2019-01-28</td><td>36.0</td></tr><tr><td>target</td><td>2019-01-28</td><td>36.0</td></tr><tr><td>control</td><td>2019-01-29</td><td>39.9</td></tr><tr><td>target</td><td>2019-01-29</td><td>39.9</td></tr><tr><td>control</td><td>2019-01-30</td><td>42.0</td></tr><tr><td>target</td><td>2019-01-30</td><td>42.5</td></tr><tr><td>control</td><td>2019-01-31</td><td>43.0</td></tr><tr><td>target</td><td>2019-01-31</td><td>43.0</td></tr></tbody></table></div>"
      ]
     },
     "metadata": {
      "application/vnd.databricks.v1+output": {
       "addedWidgets": {},
       "aggData": [],
       "aggError": "",
       "aggOverflow": false,
       "aggSchema": [],
       "aggSeriesLimitReached": false,
       "aggType": "",
       "arguments": {},
       "columnCustomDisplayInfos": {},
       "data": [
        [
         "control",
         "2018-12-03",
         36.0
        ],
        [
         "target",
         "2018-12-03",
         36.0
        ],
        [
         "control",
         "2018-12-04",
         35.5
        ],
        [
         "target",
         "2018-12-04",
         35.69
        ],
        [
         "control",
         "2018-12-05",
         36.3
        ],
        [
         "target",
         "2018-12-05",
         36.0
        ],
        [
         "control",
         "2018-12-06",
         36.7
        ],
        [
         "target",
         "2018-12-06",
         36.8
        ],
        [
         "control",
         "2018-12-07",
         40.0
        ],
        [
         "target",
         "2018-12-07",
         40.0
        ],
        [
         "control",
         "2018-12-08",
         42.51
        ],
        [
         "target",
         "2018-12-08",
         42.0
        ],
        [
         "control",
         "2018-12-09",
         43.5
        ],
        [
         "target",
         "2018-12-09",
         43.0
        ],
        [
         "control",
         "2018-12-10",
         42.5
        ],
        [
         "target",
         "2018-12-10",
         42.0
        ],
        [
         "control",
         "2018-12-11",
         43.5
        ],
        [
         "target",
         "2018-12-11",
         43.5
        ],
        [
         "control",
         "2018-12-12",
         40.0
        ],
        [
         "target",
         "2018-12-12",
         40.0
        ],
        [
         "control",
         "2018-12-13",
         36.0
        ],
        [
         "target",
         "2018-12-13",
         36.0
        ],
        [
         "control",
         "2018-12-14",
         39.7
        ],
        [
         "target",
         "2018-12-14",
         39.2
        ],
        [
         "control",
         "2018-12-15",
         41.8
        ],
        [
         "target",
         "2018-12-15",
         41.9
        ],
        [
         "control",
         "2018-12-16",
         42.9
        ],
        [
         "target",
         "2018-12-16",
         42.85
        ],
        [
         "control",
         "2018-12-17",
         35.7
        ],
        [
         "target",
         "2018-12-17",
         35.7
        ],
        [
         "control",
         "2018-12-18",
         34.99
        ],
        [
         "target",
         "2018-12-18",
         35.0
        ],
        [
         "control",
         "2018-12-19",
         35.48
        ],
        [
         "target",
         "2018-12-19",
         35.9
        ],
        [
         "control",
         "2018-12-20",
         36.0
        ],
        [
         "target",
         "2018-12-20",
         35.98
        ],
        [
         "control",
         "2018-12-21",
         39.99
        ],
        [
         "target",
         "2018-12-21",
         40.0
        ],
        [
         "control",
         "2018-12-22",
         41.9
        ],
        [
         "target",
         "2018-12-22",
         42.0
        ],
        [
         "control",
         "2018-12-23",
         43.0
        ],
        [
         "target",
         "2018-12-23",
         42.98
        ],
        [
         "control",
         "2018-12-24",
         35.4
        ],
        [
         "target",
         "2018-12-24",
         35.5
        ],
        [
         "control",
         "2018-12-25",
         34.7
        ],
        [
         "target",
         "2018-12-25",
         34.2
        ],
        [
         "control",
         "2018-12-26",
         35.2
        ],
        [
         "target",
         "2018-12-26",
         35.0
        ],
        [
         "control",
         "2018-12-27",
         35.8
        ],
        [
         "target",
         "2018-12-27",
         36.0
        ],
        [
         "control",
         "2018-12-28",
         39.3
        ],
        [
         "target",
         "2018-12-28",
         39.0
        ],
        [
         "control",
         "2018-12-29",
         42.0
        ],
        [
         "target",
         "2018-12-29",
         41.9
        ],
        [
         "control",
         "2018-12-30",
         43.0
        ],
        [
         "target",
         "2018-12-30",
         43.1
        ],
        [
         "control",
         "2018-12-31",
         36.4
        ],
        [
         "target",
         "2018-12-31",
         36.0
        ],
        [
         "control",
         "2019-01-01",
         46.0
        ],
        [
         "target",
         "2019-01-01",
         45.4
        ],
        [
         "control",
         "2019-01-02",
         43.9
        ],
        [
         "target",
         "2019-01-02",
         43.8
        ],
        [
         "control",
         "2019-01-03",
         43.5
        ],
        [
         "target",
         "2019-01-03",
         43.5
        ],
        [
         "control",
         "2019-01-04",
         37.0
        ],
        [
         "target",
         "2019-01-04",
         36.96
        ],
        [
         "control",
         "2019-01-05",
         36.8
        ],
        [
         "target",
         "2019-01-05",
         36.7
        ],
        [
         "control",
         "2019-01-06",
         36.5
        ],
        [
         "target",
         "2019-01-06",
         36.5
        ],
        [
         "control",
         "2019-01-07",
         36.9
        ],
        [
         "target",
         "2019-01-07",
         36.96
        ],
        [
         "control",
         "2019-01-08",
         39.0
        ],
        [
         "target",
         "2019-01-08",
         39.3
        ],
        [
         "control",
         "2019-01-09",
         42.0
        ],
        [
         "target",
         "2019-01-09",
         42.0
        ],
        [
         "control",
         "2019-01-10",
         42.9
        ],
        [
         "target",
         "2019-01-10",
         42.9
        ],
        [
         "control",
         "2019-01-11",
         35.9
        ],
        [
         "target",
         "2019-01-11",
         36.0
        ],
        [
         "control",
         "2019-01-12",
         35.5
        ],
        [
         "target",
         "2019-01-12",
         35.5
        ],
        [
         "control",
         "2019-01-13",
         35.8
        ],
        [
         "target",
         "2019-01-13",
         36.0
        ],
        [
         "control",
         "2019-01-14",
         36.0
        ],
        [
         "target",
         "2019-01-14",
         36.8
        ],
        [
         "control",
         "2019-01-15",
         39.9
        ],
        [
         "target",
         "2019-01-15",
         40.0
        ],
        [
         "control",
         "2019-01-16",
         41.95
        ],
        [
         "target",
         "2019-01-16",
         42.0
        ],
        [
         "control",
         "2019-01-17",
         42.7
        ],
        [
         "target",
         "2019-01-17",
         42.5
        ],
        [
         "control",
         "2019-01-18",
         35.8
        ],
        [
         "target",
         "2019-01-18",
         35.8
        ],
        [
         "control",
         "2019-01-19",
         35.9
        ],
        [
         "target",
         "2019-01-19",
         35.5
        ],
        [
         "control",
         "2019-01-20",
         37.7
        ],
        [
         "target",
         "2019-01-20",
         37.8
        ],
        [
         "control",
         "2019-01-21",
         36.5
        ],
        [
         "target",
         "2019-01-21",
         36.0
        ],
        [
         "control",
         "2019-01-22",
         39.8
        ],
        [
         "target",
         "2019-01-22",
         39.5
        ],
        [
         "control",
         "2019-01-23",
         40.9
        ],
        [
         "target",
         "2019-01-23",
         40.9
        ],
        [
         "control",
         "2019-01-24",
         42.4
        ],
        [
         "target",
         "2019-01-24",
         42.0
        ],
        [
         "control",
         "2019-01-25",
         39.4
        ],
        [
         "target",
         "2019-01-25",
         39.3
        ],
        [
         "control",
         "2019-01-26",
         35.3
        ],
        [
         "target",
         "2019-01-26",
         35.0
        ],
        [
         "control",
         "2019-01-27",
         36.37
        ],
        [
         "target",
         "2019-01-27",
         36.4
        ],
        [
         "control",
         "2019-01-28",
         36.0
        ],
        [
         "target",
         "2019-01-28",
         36.0
        ],
        [
         "control",
         "2019-01-29",
         39.9
        ],
        [
         "target",
         "2019-01-29",
         39.9
        ],
        [
         "control",
         "2019-01-30",
         42.0
        ],
        [
         "target",
         "2019-01-30",
         42.5
        ],
        [
         "control",
         "2019-01-31",
         43.0
        ],
        [
         "target",
         "2019-01-31",
         43.0
        ]
       ],
       "datasetInfos": [
        {
         "name": "_sqldf",
         "schema": {
          "fields": [
           {
            "metadata": {},
            "name": "is_target",
            "nullable": true,
            "type": "string"
           },
           {
            "metadata": {},
            "name": "order_date",
            "nullable": true,
            "type": "date"
           },
           {
            "metadata": {},
            "name": "median_total_amount",
            "nullable": true,
            "type": "double"
           }
          ],
          "type": "struct"
         },
         "tableIdentifier": null,
         "typeStr": "pyspark.sql.dataframe.DataFrame"
        }
       ],
       "dbfsResultPath": null,
       "isJsonSchema": true,
       "metadata": {
        "createTempViewForImplicitDf": true,
        "dataframeName": "_sqldf",
        "executionCount": 180
       },
       "overflow": false,
       "plotOptions": {
        "customPlotOptions": {},
        "displayType": "table",
        "pivotAggregation": null,
        "pivotColumns": null,
        "xColumns": null,
        "yColumns": null
       },
       "removedWidgets": [],
       "schema": [
        {
         "metadata": "{}",
         "name": "is_target",
         "type": "\"string\""
        },
        {
         "metadata": "{}",
         "name": "order_date",
         "type": "\"date\""
        },
        {
         "metadata": "{}",
         "name": "median_total_amount",
         "type": "\"double\""
        }
       ],
       "type": "table"
      }
     },
     "output_type": "display_data"
    },
    {
     "output_type": "display_data",
     "data": {
      "text/plain": [
       "Databricks visualization. Run in Databricks to view."
      ]
     },
     "metadata": {
      "application/vnd.databricks.v1.subcommand+json": {
       "baseErrorDetails": null,
       "bindings": {},
       "collapsed": false,
       "command": "%sql WITH q AS (SELECT\n  is_target,\n  order_date,\n  PERCENTILE_APPROX(order_total_amount, 0.5) AS median_total_amount\nFROM analytics.orders r\nINNER JOIN analytics.ab_test_users a\n  ON a.customer_id = r.customer_id\nGROUP BY is_target, order_date\nORDER BY order_date, is_target) SELECT `order_date`,`is_target`,`median_total_amount` FROM q",
       "commandTitle": "Visualization 1",
       "commandType": "auto",
       "commandVersion": 0,
       "commentThread": [],
       "commentsVisible": false,
       "contentSha256Hex": null,
       "customPlotOptions": {
        "redashChart": [
         {
          "key": "type",
          "value": "CHART"
         },
         {
          "key": "options",
          "value": {
           "alignYAxesAtZero": true,
           "coefficient": 1,
           "columnConfigurationMap": {
            "series": {
             "column": "is_target",
             "id": "column_dc840b5e441"
            },
            "x": {
             "column": "order_date",
             "id": "column_dc840b5e440"
            },
            "y": [
             {
              "column": "median_total_amount",
              "id": "column_dc840b5e442"
             }
            ]
           },
           "dateTimeFormat": "DD/MM/YYYY HH:mm",
           "direction": {
            "type": "counterclockwise"
           },
           "error_y": {
            "type": "data",
            "visible": true
           },
           "globalSeriesType": "line",
           "isAggregationOn": false,
           "legend": {
            "traceorder": "normal"
           },
           "missingValuesAsZero": true,
           "numberFormat": "0,0.[00000]",
           "percentFormat": "0[.]00%",
           "series": {
            "error_y": {
             "type": "data",
             "visible": true
            },
            "stacking": null
           },
           "seriesOptions": {
            "column_dc840b5e442": {
             "name": "median_total_amount",
             "type": "line",
             "yAxis": 0
            },
            "median_total_amount": {
             "name": "median_total_amount",
             "type": "line",
             "yAxis": 0
            }
           },
           "showDataLabels": false,
           "sizemode": "diameter",
           "sortX": true,
           "sortY": true,
           "swappedAxes": false,
           "textFormat": "",
           "useAggregationsUi": true,
           "valuesOptions": {},
           "version": 2,
           "xAxis": {
            "labels": {
             "enabled": true
            },
            "type": "-"
           },
           "yAxis": [
            {
             "type": "-"
            },
            {
             "opposite": true,
             "type": "-"
            }
           ]
          }
         }
        ]
       },
       "datasetPreviewNameToCmdIdMap": {},
       "diffDeletes": [],
       "diffInserts": [],
       "displayType": "redashChart",
       "error": null,
       "errorDetails": null,
       "errorSummary": null,
       "errorTraceType": null,
       "finishTime": 0,
       "globalVars": {},
       "guid": "",
       "height": "auto",
       "hideCommandCode": false,
       "hideCommandResult": false,
       "iPythonMetadata": null,
       "inputWidgets": {},
       "isLockedInExamMode": false,
       "latestUser": "a user",
       "latestUserId": null,
       "listResultMetadata": null,
       "metadata": {},
       "nuid": "9c5e0ae2-f2d6-47f6-81ee-6f00dd820742",
       "origId": 0,
       "parentHierarchy": [],
       "pivotAggregation": null,
       "pivotColumns": null,
       "position": 39.5,
       "resultDbfsErrorMessage": null,
       "resultDbfsStatus": "INLINED_IN_TREE",
       "results": null,
       "showCommandTitle": false,
       "startTime": 0,
       "state": "input",
       "streamStates": {},
       "subcommandOptions": {
        "queryPlan": {
         "selects": [
          {
           "column": "order_date",
           "type": "column"
          },
          {
           "column": "is_target",
           "type": "column"
          },
          {
           "column": "median_total_amount",
           "type": "column"
          }
         ]
        }
       },
       "submitTime": 0,
       "subtype": "tableResultSubCmd.visualization",
       "tableResultIndex": 0,
       "tableResultSettingsMap": {},
       "useConsistentColors": false,
       "version": "CommandV1",
       "width": "auto",
       "workflows": [],
       "xColumns": null,
       "yColumns": null
      }
     },
     "output_type": "display_data"
    }
   ],
   "source": [
    "%sql\n",
    "-- Mediana diária de valor dos pedidos\n",
    "SELECT\n",
    "  is_target,\n",
    "  order_date,\n",
    "  PERCENTILE_APPROX(order_total_amount, 0.5) AS median_total_amount\n",
    "FROM analytics.orders r\n",
    "INNER JOIN analytics.ab_test_users a\n",
    "  ON a.customer_id = r.customer_id\n",
    "GROUP BY is_target, order_date\n",
    "ORDER BY order_date, is_target"
   ]
  },
  {
   "cell_type": "markdown",
   "metadata": {
    "application/vnd.databricks.v1+cell": {
     "cellMetadata": {},
     "inputWidgets": {},
     "nuid": "ff3f5cd0-8281-46f5-a86b-bc610168ef1e",
     "showTitle": false,
     "tableResultSettingsMap": {},
     "title": ""
    }
   },
   "source": [
    "## Verificação de resultados estatisticamente significativos para pedidos e para valor de pedidos"
   ]
  },
  {
   "cell_type": "code",
   "execution_count": 0,
   "metadata": {
    "application/vnd.databricks.v1+cell": {
     "cellMetadata": {
      "byteLimit": 2048000,
      "rowLimit": 10000
     },
     "inputWidgets": {},
     "nuid": "35de7842-959c-4aa0-bc59-b2f2b082e728",
     "showTitle": false,
     "tableResultSettingsMap": {},
     "title": ""
    }
   },
   "outputs": [],
   "source": [
    "import pandas as pd\n",
    "from scipy.stats import ttest_ind, mannwhitneyu\n",
    "import matplotlib.pyplot as plt\n",
    "import seaborn as sns"
   ]
  },
  {
   "cell_type": "code",
   "execution_count": 0,
   "metadata": {
    "application/vnd.databricks.v1+cell": {
     "cellMetadata": {
      "byteLimit": 2048000,
      "rowLimit": 10000
     },
     "inputWidgets": {},
     "nuid": "3aeca322-2d67-4910-9cf2-bf5603c24ed7",
     "showTitle": false,
     "tableResultSettingsMap": {},
     "title": ""
    }
   },
   "outputs": [],
   "source": [
    "# Quantidade de pedidos por clientes com cupom\n",
    "df_target = spark.sql(\n",
    "    f\"\"\"SELECT r.customer_id,\n",
    "               COUNT(DISTINCT r.order_id) AS order\n",
    "  from analytics.orders r\n",
    "  inner join analytics.ab_test_users a\n",
    "  on a.customer_id = r.customer_id\n",
    "where a.is_target = 'target'\n",
    "group by r.customer_id\n",
    "\"\"\"\n",
    ")"
   ]
  },
  {
   "cell_type": "code",
   "execution_count": 0,
   "metadata": {
    "application/vnd.databricks.v1+cell": {
     "cellMetadata": {
      "byteLimit": 2048000,
      "rowLimit": 10000
     },
     "inputWidgets": {},
     "nuid": "4a0bcf78-36f0-4de5-b620-22bdd6d51d1c",
     "showTitle": false,
     "tableResultSettingsMap": {},
     "title": ""
    }
   },
   "outputs": [],
   "source": [
    "# Quantidade de pedidos por clientes sem cupom\n",
    "df_control = spark.sql(\n",
    "    f\"\"\"SELECT r.customer_id,\n",
    "               COUNT(DISTINCT r.order_id) AS order\n",
    "  from analytics.orders r\n",
    "  inner join analytics.ab_test_users a\n",
    "  on a.customer_id = r.customer_id\n",
    "where a.is_target = 'control'\n",
    "group by r.customer_id\n",
    "\"\"\"\n",
    ")"
   ]
  },
  {
   "cell_type": "code",
   "execution_count": 0,
   "metadata": {
    "application/vnd.databricks.v1+cell": {
     "cellMetadata": {
      "byteLimit": 2048000,
      "rowLimit": 10000
     },
     "inputWidgets": {},
     "nuid": "c5028876-a0d7-46e7-ac1c-9e49ac12a892",
     "showTitle": false,
     "tableResultSettingsMap": {},
     "title": ""
    }
   },
   "outputs": [],
   "source": [
    "order_target = df_target.toPandas()[\"order\"].tolist()\n",
    "order_control = df_control.toPandas()[\"order\"].tolist()"
   ]
  },
  {
   "cell_type": "code",
   "execution_count": 0,
   "metadata": {
    "application/vnd.databricks.v1+cell": {
     "cellMetadata": {
      "byteLimit": 2048000,
      "rowLimit": 10000
     },
     "inputWidgets": {},
     "nuid": "47e62316-c0a4-4a68-89bf-cd54ddbd35e1",
     "showTitle": false,
     "tableResultSettingsMap": {},
     "title": ""
    }
   },
   "outputs": [
    {
     "output_type": "stream",
     "name": "stdout",
     "output_type": "stream",
     "text": [
      "p-value: 0.0000\nDiferença estatisticamente significativa\n"
     ]
    }
   ],
   "source": [
    "stat, p_value = ttest_ind(order_target, order_control)\n",
    "\n",
    "print(f\"p-value: {p_value:.4f}\")\n",
    "\n",
    "if p_value < 0.05:\n",
    "    print(\"Diferença estatisticamente significativa\")\n",
    "else:\n",
    "    print(\"Sem diferença significativa\")"
   ]
  },
  {
   "cell_type": "code",
   "execution_count": 0,
   "metadata": {
    "application/vnd.databricks.v1+cell": {
     "cellMetadata": {
      "byteLimit": 2048000,
      "rowLimit": 10000
     },
     "inputWidgets": {},
     "nuid": "4f9a5f59-120d-40a1-8303-5d947245afa7",
     "showTitle": false,
     "tableResultSettingsMap": {},
     "title": ""
    }
   },
   "outputs": [],
   "source": [
    "# Valor de pedidos para clientes com cupom\n",
    "df_amount_target = spark.sql(\n",
    "    f\"\"\"SELECT r.customer_id,\n",
    "               sum(r.order_total_amount) AS order_amount\n",
    "  from analytics.orders r\n",
    "  inner join analytics.ab_test_users a\n",
    "  on a.customer_id = r.customer_id\n",
    "where a.is_target = 'target'\n",
    "group by r.customer_id\n",
    "\"\"\"\n",
    ")"
   ]
  },
  {
   "cell_type": "code",
   "execution_count": 0,
   "metadata": {
    "application/vnd.databricks.v1+cell": {
     "cellMetadata": {
      "byteLimit": 2048000,
      "rowLimit": 10000
     },
     "inputWidgets": {},
     "nuid": "fc8c62d9-a208-4fc4-a869-4d9911e7468b",
     "showTitle": false,
     "tableResultSettingsMap": {},
     "title": ""
    }
   },
   "outputs": [],
   "source": [
    "# Valor de pedidos para clientes sem cupom\n",
    "df_amount_control = spark.sql(\n",
    "    f\"\"\"SELECT r.customer_id,\n",
    "               sum(r.order_total_amount) AS order_amount\n",
    "  from analytics.orders r\n",
    "  inner join analytics.ab_test_users a\n",
    "  on a.customer_id = r.customer_id\n",
    "where a.is_target = 'control'\n",
    "group by r.customer_id\n",
    "\"\"\"\n",
    ")"
   ]
  },
  {
   "cell_type": "code",
   "execution_count": 0,
   "metadata": {
    "application/vnd.databricks.v1+cell": {
     "cellMetadata": {
      "byteLimit": 2048000,
      "rowLimit": 10000
     },
     "inputWidgets": {},
     "nuid": "9ab0cb1b-5333-4179-8745-0ba29dca5581",
     "showTitle": false,
     "tableResultSettingsMap": {},
     "title": ""
    }
   },
   "outputs": [],
   "source": [
    "amount_target = df_amount_target.toPandas()[\"order_amount\"].tolist()\n",
    "amount_control = df_amount_control.toPandas()[\"order_amount\"].tolist()"
   ]
  },
  {
   "cell_type": "code",
   "execution_count": 0,
   "metadata": {
    "application/vnd.databricks.v1+cell": {
     "cellMetadata": {
      "byteLimit": 2048000,
      "rowLimit": 10000
     },
     "inputWidgets": {},
     "nuid": "b26c067d-d4e0-4756-8bed-4e2529b24f3b",
     "showTitle": false,
     "tableResultSettingsMap": {},
     "title": ""
    }
   },
   "outputs": [],
   "source": [
    "\n",
    "stat, p_value = mannwhitneyu(amount_target, amount_control, alternative='two-sided')\n"
   ]
  },
  {
   "cell_type": "code",
   "execution_count": 0,
   "metadata": {
    "application/vnd.databricks.v1+cell": {
     "cellMetadata": {
      "byteLimit": 2048000,
      "rowLimit": 10000
     },
     "inputWidgets": {},
     "nuid": "1141c828-75c9-4edf-a789-8223de8f8c78",
     "showTitle": false,
     "tableResultSettingsMap": {},
     "title": ""
    }
   },
   "outputs": [
    {
     "output_type": "stream",
     "name": "stdout",
     "output_type": "stream",
     "text": [
      "Valor-p: 0.0000\nDiferença estatisticamente significativa na receita por cliente.\n"
     ]
    }
   ],
   "source": [
    "print(f\"Valor-p: {p_value:.4f}\")\n",
    "if p_value < 0.05:\n",
    "    print(\"Diferença estatisticamente significativa na receita por cliente.\")\n",
    "else:\n",
    "    print(\"Sem diferença significativa na receita por cliente.\")\n"
   ]
  },
  {
   "cell_type": "markdown",
   "metadata": {
    "application/vnd.databricks.v1+cell": {
     "cellMetadata": {},
     "inputWidgets": {},
     "nuid": "877f1452-de10-4c66-9a19-a334b19b547f",
     "showTitle": false,
     "tableResultSettingsMap": {},
     "title": ""
    }
   },
   "source": [
    "Media do valor total por cliente e Lift Percentual para comprender o quanto o grupo B performou melhor em termos de receita em relação ao grupo A"
   ]
  },
  {
   "cell_type": "code",
   "execution_count": 0,
   "metadata": {
    "application/vnd.databricks.v1+cell": {
     "cellMetadata": {
      "byteLimit": 2048000,
      "rowLimit": 10000
     },
     "inputWidgets": {},
     "nuid": "b157ab46-4b67-4e12-9948-7f5cd3208436",
     "showTitle": false,
     "tableResultSettingsMap": {},
     "title": ""
    }
   },
   "outputs": [
    {
     "output_type": "stream",
     "name": "stdout",
     "output_type": "stream",
     "text": [
      "Média Target: R$ 151.89\nMédia Control: R$ 134.33\nLift percentual: 13.07%\n"
     ]
    }
   ],
   "source": [
    "import numpy as np\n",
    "mean_target = np.mean(amount_target)\n",
    "mean_control = np.mean(amount_control)\n",
    "\n",
    "lift = (mean_target - mean_control) / mean_control\n",
    "\n",
    "print(f\"Média Target: R$ {mean_target:.2f}\")\n",
    "print(f\"Média Control: R$ {mean_control:.2f}\")\n",
    "print(f\"Lift percentual: {lift * 100:.2f}%\")"
   ]
  },
  {
   "cell_type": "markdown",
   "metadata": {
    "application/vnd.databricks.v1+cell": {
     "cellMetadata": {},
     "inputWidgets": {},
     "nuid": "46a725eb-a968-4482-bbec-0b436aa4af8c",
     "showTitle": false,
     "tableResultSettingsMap": {},
     "title": ""
    }
   },
   "source": [
    "##  2. Análise de segmentação para teste A/B "
   ]
  },
  {
   "cell_type": "markdown",
   "metadata": {
    "application/vnd.databricks.v1+cell": {
     "cellMetadata": {},
     "inputWidgets": {},
     "nuid": "0907ff2e-ee78-4f0c-9c61-c403e6a8f78a",
     "showTitle": false,
     "tableResultSettingsMap": {},
     "title": ""
    }
   },
   "source": [
    "Análise inicial do perfil dos clientes foram utilizadas as  variáveis:\n",
    "- Quantidade de pedidos (quant_order);\n",
    "- Valor total dos pedidos (total_order);\n",
    "- Média do valor minimo dos resturantes atrelados aos pedidos (minimium_order_value);\n",
    "- Ticket médio do restaurante (average_ticket)"
   ]
  },
  {
   "cell_type": "code",
   "execution_count": 0,
   "metadata": {
    "application/vnd.databricks.v1+cell": {
     "cellMetadata": {
      "byteLimit": 2048000,
      "rowLimit": 10000
     },
     "inputWidgets": {},
     "nuid": "f524a6c7-38ab-4806-b8d8-90e26747800d",
     "showTitle": false,
     "tableResultSettingsMap": {},
     "title": ""
    }
   },
   "outputs": [],
   "source": [
    "from sklearn.preprocessing import StandardScaler\n",
    "from sklearn.cluster import KMeans\n",
    "import mlflow\n",
    "mlflow.autolog(disable=True)"
   ]
  },
  {
   "cell_type": "code",
   "execution_count": 0,
   "metadata": {
    "application/vnd.databricks.v1+cell": {
     "cellMetadata": {
      "byteLimit": 2048000,
      "implicitDf": true,
      "rowLimit": 10000
     },
     "inputWidgets": {},
     "nuid": "41bc1087-5ddb-43df-9dda-d17a185f936a",
     "showTitle": false,
     "tableResultSettingsMap": {},
     "title": ""
    }
   },
   "outputs": [],
   "source": [
    "# Perfil destes clientes\n",
    "df_customer_profile = spark.sql(f'''select a.customer_id,\n",
    "       c.language,\n",
    "       r.origin_platform,\n",
    "       c.active,\n",
    "       r.delivery_address_state,\n",
    "       count(distinct r.order_id) as quant_order,\n",
    "       round(sum(r.order_total_amount),2) as total_order,\n",
    "       round(avg(m.minimum_order_value),2) as minimum_order_value,\n",
    "       round(avg(m.average_ticket),2) as average_ticket\n",
    "from analytics.ab_test_users a\n",
    "inner join analytics.orders r\n",
    "on a.customer_id = r.customer_id\n",
    "left join analytics.merchants m\n",
    "on m.id = r.merchant_id\n",
    "left join analytics.consumers c\n",
    "on c.customer_id = a.customer_id\n",
    "where active = 'true' and m.enabled = 'true' and minimum_order_value is not null\n",
    "group by a.customer_id,\n",
    "       c.language,\n",
    "       a.is_target,\n",
    "       r.origin_platform,\n",
    "       c.active,\n",
    "       r.delivery_address_state\n",
    "''')"
   ]
  },
  {
   "cell_type": "code",
   "execution_count": 0,
   "metadata": {
    "application/vnd.databricks.v1+cell": {
     "cellMetadata": {
      "byteLimit": 2048000,
      "rowLimit": 10000
     },
     "inputWidgets": {},
     "nuid": "7f0d9098-1f5a-4e2e-93d3-d8dd98d705e3",
     "showTitle": false,
     "tableResultSettingsMap": {},
     "title": ""
    }
   },
   "outputs": [],
   "source": [
    "# Obtendo as varáveis numéricas:\n",
    "df_numeric_variables = df_customer_profile.select(\"customer_id\",\"quant_order\",\"total_order\",\"minimum_order_value\",\"average_ticket\")"
   ]
  },
  {
   "cell_type": "code",
   "execution_count": 0,
   "metadata": {
    "application/vnd.databricks.v1+cell": {
     "cellMetadata": {
      "byteLimit": 2048000,
      "rowLimit": 10000
     },
     "inputWidgets": {},
     "nuid": "443897e4-4658-4260-8d6f-d466806c8239",
     "showTitle": false,
     "tableResultSettingsMap": {},
     "title": ""
    }
   },
   "outputs": [],
   "source": [
    "#Convertendo para pandas para utilizar recursos Python\n",
    "df_pandas = df_numeric_variables.toPandas()\n"
   ]
  },
  {
   "cell_type": "code",
   "execution_count": 0,
   "metadata": {
    "application/vnd.databricks.v1+cell": {
     "cellMetadata": {
      "byteLimit": 2048000,
      "rowLimit": 10000
     },
     "inputWidgets": {},
     "nuid": "f69eec7c-c51a-4ca8-935e-619682707c10",
     "showTitle": false,
     "tableResultSettingsMap": {},
     "title": ""
    }
   },
   "outputs": [],
   "source": [
    "df_only_variables = df_pandas[[\"quant_order\",\"total_order\",\"minimum_order_value\",\"average_ticket\"]]"
   ]
  },
  {
   "cell_type": "code",
   "execution_count": 0,
   "metadata": {
    "application/vnd.databricks.v1+cell": {
     "cellMetadata": {
      "byteLimit": 2048000,
      "rowLimit": 10000
     },
     "inputWidgets": {},
     "nuid": "4973b8aa-221d-4541-8dd7-321eb92faade",
     "showTitle": false,
     "tableResultSettingsMap": {},
     "title": ""
    }
   },
   "outputs": [],
   "source": [
    "scaler = StandardScaler()\n",
    "X_scaled = scaler.fit_transform(df_only_variables)"
   ]
  },
  {
   "cell_type": "code",
   "execution_count": 0,
   "metadata": {
    "application/vnd.databricks.v1+cell": {
     "cellMetadata": {
      "byteLimit": 2048000,
      "rowLimit": 10000
     },
     "inputWidgets": {},
     "nuid": "686463fb-3283-48c0-9ab2-dff1922de61c",
     "showTitle": false,
     "tableResultSettingsMap": {},
     "title": ""
    }
   },
   "outputs": [
    {
     "output_type": "stream",
     "name": "stderr",
     "output_type": "stream",
     "text": [
      "Exception ignored on calling ctypes callback function: <function _ThreadpoolInfo._find_modules_with_dl_iterate_phdr.<locals>.match_module_callback at 0x754460387240>\nTraceback (most recent call last):\n  File \"/databricks/python/lib/python3.12/site-packages/threadpoolctl.py\", line 400, in match_module_callback\n    self._make_module_from_path(filepath)\n  File \"/databricks/python/lib/python3.12/site-packages/threadpoolctl.py\", line 515, in _make_module_from_path\n    module = module_class(filepath, prefix, user_api, internal_api)\n             ^^^^^^^^^^^^^^^^^^^^^^^^^^^^^^^^^^^^^^^^^^^^^^^^^^^^^^\n  File \"/databricks/python/lib/python3.12/site-packages/threadpoolctl.py\", line 606, in __init__\n    self.version = self.get_version()\n                   ^^^^^^^^^^^^^^^^^^\n  File \"/databricks/python/lib/python3.12/site-packages/threadpoolctl.py\", line 646, in get_version\n    config = get_config().split()\n             ^^^^^^^^^^^^^^^^^^\nAttributeError: 'NoneType' object has no attribute 'split'\n"
     ]
    }
   ],
   "source": [
    "kmeans = KMeans(n_clusters=2, random_state=42)\n",
    "df_pandas[\"cluster\"] = kmeans.fit_predict(X_scaled)"
   ]
  },
  {
   "cell_type": "code",
   "execution_count": 0,
   "metadata": {
    "application/vnd.databricks.v1+cell": {
     "cellMetadata": {
      "byteLimit": 2048000,
      "rowLimit": 10000
     },
     "inputWidgets": {},
     "nuid": "d0d94e9c-5554-4fdf-b798-8d5082fff217",
     "showTitle": false,
     "tableResultSettingsMap": {},
     "title": ""
    }
   },
   "outputs": [],
   "source": [
    "df_clusters = df_pandas[[\"customer_id\", \"cluster\"]]"
   ]
  },
  {
   "cell_type": "markdown",
   "metadata": {
    "application/vnd.databricks.v1+cell": {
     "cellMetadata": {},
     "inputWidgets": {},
     "nuid": "ce54d2f1-085d-45a0-acf0-e0213b2e4671",
     "showTitle": false,
     "tableResultSettingsMap": {},
     "title": ""
    }
   },
   "source": [
    "Resultados da clusterização:"
   ]
  },
  {
   "cell_type": "code",
   "execution_count": 0,
   "metadata": {
    "application/vnd.databricks.v1+cell": {
     "cellMetadata": {
      "byteLimit": 2048000,
      "rowLimit": 10000
     },
     "inputWidgets": {},
     "nuid": "63d8b151-595a-4299-a1a1-feb6c35530ed",
     "showTitle": false,
     "tableResultSettingsMap": {},
     "title": ""
    }
   },
   "outputs": [
    {
     "output_type": "stream",
     "name": "stdout",
     "output_type": "stream",
     "text": [
      "0    641930\n1     61544\nName: cluster, dtype: int64\n"
     ]
    }
   ],
   "source": [
    "#Quantidade de clientes por cluster\n",
    "print(df_clusters[\"cluster\"].value_counts())"
   ]
  },
  {
   "cell_type": "code",
   "execution_count": 0,
   "metadata": {
    "application/vnd.databricks.v1+cell": {
     "cellMetadata": {
      "byteLimit": 2048000,
      "rowLimit": 10000
     },
     "inputWidgets": {},
     "nuid": "d5ef2e42-e828-4df6-b3ba-73c6c92fe50d",
     "showTitle": false,
     "tableResultSettingsMap": {},
     "title": ""
    }
   },
   "outputs": [
    {
     "output_type": "stream",
     "name": "stdout",
     "output_type": "stream",
     "text": [
      "         quant_order  total_order  minimum_order_value  average_ticket\ncluster                                                               \n0           1.758701    80.527619            88.602909       57.987138\n1           9.144157   455.132043            94.654348       59.504087\n"
     ]
    }
   ],
   "source": [
    "# Características por cluster\n",
    "print(df_clusters.groupby(\"cluster\").mean())"
   ]
  },
  {
   "cell_type": "markdown",
   "metadata": {
    "application/vnd.databricks.v1+cell": {
     "cellMetadata": {},
     "inputWidgets": {},
     "nuid": "110f6707-c6cd-455b-8f28-4036d463eba4",
     "showTitle": false,
     "tableResultSettingsMap": {},
     "title": ""
    }
   },
   "source": [
    "Convertendo em um dataframe Pyspark"
   ]
  },
  {
   "cell_type": "code",
   "execution_count": 0,
   "metadata": {
    "application/vnd.databricks.v1+cell": {
     "cellMetadata": {
      "byteLimit": 2048000,
      "rowLimit": 10000
     },
     "inputWidgets": {},
     "nuid": "9953f345-4977-4c88-9871-ad1fbf80d6bb",
     "showTitle": false,
     "tableResultSettingsMap": {},
     "title": ""
    }
   },
   "outputs": [],
   "source": [
    "df_cluster_spark = spark.createDataFrame(df_clusters)"
   ]
  },
  {
   "cell_type": "code",
   "execution_count": 0,
   "metadata": {
    "application/vnd.databricks.v1+cell": {
     "cellMetadata": {
      "byteLimit": 2048000,
      "rowLimit": 10000
     },
     "inputWidgets": {},
     "nuid": "d40ecfd2-91b1-4094-ac74-33393b6dbc78",
     "showTitle": false,
     "tableResultSettingsMap": {},
     "title": ""
    }
   },
   "outputs": [],
   "source": [
    "df_new_ab_test = df_cluster_spark.withColumn(\n",
    "    \"is_target\", when(col(\"cluster\") == 0, \"control\").otherwise(\"target\")\n",
    ").drop(\"cluster\")"
   ]
  },
  {
   "cell_type": "markdown",
   "metadata": {
    "application/vnd.databricks.v1+cell": {
     "cellMetadata": {},
     "inputWidgets": {},
     "nuid": "30f5e508-01e5-4425-ae08-2d38316cf604",
     "showTitle": false,
     "tableResultSettingsMap": {},
     "title": ""
    }
   },
   "source": [
    "# Analise do Teste A/B com base no novo segmento"
   ]
  },
  {
   "cell_type": "code",
   "execution_count": 0,
   "metadata": {
    "application/vnd.databricks.v1+cell": {
     "cellMetadata": {
      "byteLimit": 2048000,
      "rowLimit": 10000
     },
     "inputWidgets": {},
     "nuid": "8309801e-4458-42a5-ad78-9ba9af9b5288",
     "showTitle": false,
     "tableResultSettingsMap": {},
     "title": ""
    }
   },
   "outputs": [],
   "source": [
    "df_current_orders = spark.table(\"analytics.orders\").join(df_new_ab_test, on=\"customer_id\", how=\"inner\")"
   ]
  },
  {
   "cell_type": "code",
   "execution_count": 0,
   "metadata": {
    "application/vnd.databricks.v1+cell": {
     "cellMetadata": {
      "byteLimit": 2048000,
      "rowLimit": 10000
     },
     "inputWidgets": {},
     "nuid": "45a862c1-5281-438f-8097-70666e34a6da",
     "showTitle": false,
     "tableResultSettingsMap": {},
     "title": ""
    }
   },
   "outputs": [],
   "source": [
    "df_new_amount_target = df_current_orders.where(col(\"is_target\") == \"target\").groupBy(\"customer_id\").agg(sum(\"order_total_amount\").alias(\"order_amount\"))\n",
    "df_new_amount_control = df_current_orders.where(col(\"is_target\") == \"control\").groupBy(\"customer_id\").agg(sum(\"order_total_amount\").alias(\"order_amount\"))\n"
   ]
  },
  {
   "cell_type": "code",
   "execution_count": 0,
   "metadata": {
    "application/vnd.databricks.v1+cell": {
     "cellMetadata": {
      "byteLimit": 2048000,
      "rowLimit": 10000
     },
     "inputWidgets": {},
     "nuid": "3605688e-24d8-4319-97a4-1c39d8d7feae",
     "showTitle": false,
     "tableResultSettingsMap": {},
     "title": ""
    }
   },
   "outputs": [],
   "source": [
    "amount_new_target = df_new_amount_target.toPandas()[\"order_amount\"].tolist()\n",
    "amount_new_control = df_new_amount_control.toPandas()[\"order_amount\"].tolist()"
   ]
  },
  {
   "cell_type": "code",
   "execution_count": 0,
   "metadata": {
    "application/vnd.databricks.v1+cell": {
     "cellMetadata": {
      "byteLimit": 2048000,
      "rowLimit": 10000
     },
     "inputWidgets": {},
     "nuid": "bb06e8a5-ec18-4e47-8bc9-285ccbb95f0f",
     "showTitle": false,
     "tableResultSettingsMap": {},
     "title": ""
    }
   },
   "outputs": [
    {
     "output_type": "stream",
     "name": "stdout",
     "output_type": "stream",
     "text": [
      "Valor-p: 0.0000\nDiferença estatisticamente significativa na receita por cliente.\n"
     ]
    }
   ],
   "source": [
    "\n",
    "stat, p_value = mannwhitneyu(amount_target, amount_control, alternative='two-sided')\n",
    "\n",
    "print(f\"Valor-p: {p_value:.4f}\")\n",
    "if p_value < 0.05:\n",
    "    print(\"Diferença estatisticamente significativa na receita por cliente.\")\n",
    "else:\n",
    "    print(\"Sem diferença significativa na receita por cliente.\")\n"
   ]
  },
  {
   "cell_type": "markdown",
   "metadata": {
    "application/vnd.databricks.v1+cell": {
     "cellMetadata": {},
     "inputWidgets": {},
     "nuid": "e7b97abe-ae7f-4c89-8ef8-c6145734d3f3",
     "showTitle": false,
     "tableResultSettingsMap": {},
     "title": ""
    }
   },
   "source": [
    "Nova Media do valor total de pedido por cliente e Lift Percentual para comprender o quanto o grupo B performou melhor em termos de receita em relação ao grupo A"
   ]
  },
  {
   "cell_type": "code",
   "execution_count": 0,
   "metadata": {
    "application/vnd.databricks.v1+cell": {
     "cellMetadata": {
      "byteLimit": 2048000,
      "rowLimit": 10000
     },
     "inputWidgets": {},
     "nuid": "f57de952-e479-40ee-b853-14e82e36fa43",
     "showTitle": false,
     "tableResultSettingsMap": {},
     "title": ""
    }
   },
   "outputs": [
    {
     "output_type": "stream",
     "name": "stdout",
     "output_type": "stream",
     "text": [
      "Média novo Target: R$ 624.01\nMédia novo Control: R$ 135.78\nLift percentual: 363.45%\n"
     ]
    }
   ],
   "source": [
    "\n",
    "mean_new_target = np.mean(amount_new_target)\n",
    "mean_new_control = np.mean(amount_new_control)\n",
    "\n",
    "lift = (mean_new_target - mean_new_control) / mean_control\n",
    "\n",
    "print(f\"Média novo Target: R$ {mean_new_target:.2f}\")\n",
    "print(f\"Média novo Control: R$ {mean_new_control:.2f}\")\n",
    "print(f\"Lift percentual: {lift * 100:.2f}%\")"
   ]
  }
 ],
 "metadata": {
  "application/vnd.databricks.v1+notebook": {
   "computePreferences": null,
   "dashboards": [],
   "environmentMetadata": null,
   "inputWidgetPreferences": null,
   "language": "python",
   "notebookMetadata": {
    "mostRecentlyExecutedCommandWithImplicitDF": {
     "commandId": -1,
     "dataframes": [
      "_sqldf"
     ]
    },
    "pythonIndentUnit": 4
   },
   "notebookName": "Analise Teste AB Cupom de Desconto - Lorena Diana Santos",
   "widgets": {}
  },
  "language_info": {
   "name": "python"
  }
 },
 "nbformat": 4,
 "nbformat_minor": 0
}